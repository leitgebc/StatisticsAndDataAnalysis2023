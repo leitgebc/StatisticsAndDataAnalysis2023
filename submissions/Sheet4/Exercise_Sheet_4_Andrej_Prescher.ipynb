{
 "cells": [
  {
   "cell_type": "code",
   "execution_count": 40,
   "metadata": {},
   "outputs": [],
   "source": [
    "import numpy as np\n",
    "from matplotlib import pyplot as plt"
   ]
  },
  {
   "cell_type": "code",
   "execution_count": 41,
   "metadata": {},
   "outputs": [
    {
     "data": {
      "image/png": "[encoded data removed]",
      "text/plain": [
       "<Figure size 432x288 with 1 Axes>"
      ]
     },
     "metadata": {
      "needs_background": "light"
     },
     "output_type": "display_data"
    }
   ],
   "source": [
    "n = np.array([1,2,3,4,5,6,7,8,9])\n",
    "phi = np.array([12,22,25,38,46,72,77,86,135])\n",
    "phi_err = np.array([2,4,5,6,7,10,12,16,18])\n",
    "\n",
    "plt.figure(1)\n",
    "#plt.plot(n, np.sin(phi/180*2*np.pi/2), 'o')\n",
    "plt.errorbar(n, np.sin(phi/180*2*np.pi/2), fmt = 'o', color = 'black', yerr = np.sin(phi_err/180*2*np.pi/2), ecolor = 'blue', capsize = 5)\n",
    "plt.xlabel('n')\n",
    "plt.ylabel(r'sin($\\frac{\\phi}{2}$)')\n",
    "plt.errorbar(n, np.sin(phi/180*2*np.pi/2), fmt = 'o', color = 'black', yerr = np.sin(phi_err/180*2*np.pi/2), ecolor = 'blue', capsize = 5)\n",
    "#plt.legend()\n",
    "plt.show()"
   ]
  },
  {
   "cell_type": "code",
   "execution_count": 42,
   "metadata": {},
   "outputs": [
    {
     "name": "stdout",
     "output_type": "stream",
     "text": [
      "plane spacing d =  0.2565  nm\n",
      "error:  0.0766  nm\n"
     ]
    }
   ],
   "source": [
    "lambd = 0.0711 * 10**(-9)\n",
    "\n",
    "d_arr = lambd*n / (2* np.sin(phi/180*2*np.pi/2))\n",
    "\n",
    "d = np.mean(d)\n",
    "d_err = np.mean(d_arr**2) - d**2\n",
    "\n",
    "print('plane spacing d = ', np.round(d*10**(9), 4), ' nm')\n",
    "print('error: ', np.round(np.sqrt(d_err)*10**(9), 4), ' nm')"
   ]
  },
  {
   "cell_type": "code",
   "execution_count": null,
   "metadata": {},
   "outputs": [],
   "source": []
  }
 ],
 "metadata": {
  "kernelspec": {
   "display_name": "Python 3",
   "language": "python",
   "name": "python3"
  },
  "language_info": {
   "codemirror_mode": {
    "name": "ipython",
    "version": 3
   },
   "file_extension": ".py",
   "mimetype": "text/x-python",
   "name": "python",
   "nbconvert_exporter": "python",
   "pygments_lexer": "ipython3",
   "version": "3.8.5"
  }
 },
 "nbformat": 4,
 "nbformat_minor": 4
}
