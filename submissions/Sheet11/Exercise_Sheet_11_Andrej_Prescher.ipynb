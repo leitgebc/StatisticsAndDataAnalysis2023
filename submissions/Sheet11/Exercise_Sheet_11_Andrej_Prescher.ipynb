{
 "cells": [
  {
   "cell_type": "code",
   "execution_count": 30,
   "metadata": {},
   "outputs": [],
   "source": [
    "import numpy as np\n",
    "from scipy import optimize\n",
    "import math"
   ]
  },
  {
   "cell_type": "code",
   "execution_count": 31,
   "metadata": {},
   "outputs": [
    {
     "name": "stdout",
     "output_type": "stream",
     "text": [
      "i: n =  [ 2.  4.  5.  7.  8.  9. 10. 12. 13. 14. 15. 17.]\n",
      "ii: n =  [1. 1. 2. 3. 3. 4. 5. 6. 6. 7. 8. 9.]\n",
      "ii: n =  [ 3.  5.  6.  8.  9. 10. 12. 13. 14. 15. 17. 18.] n´ =  [1. 1. 2. 2. 3. 3. 4. 5. 5. 6. 7. 8.]\n"
     ]
    }
   ],
   "source": [
    "def poisson(lamb, n):\n",
    "    P = lamb**n / math.factorial(n) * np.exp(-1*lamb)\n",
    "    return P\n",
    "    \n",
    "\n",
    "lamb = np.linspace(1,12,12)\n",
    "\n",
    "n1_arr = np.zeros(12)\n",
    "n2_arr = np.zeros(12)\n",
    "n3_arr = np.zeros(12)\n",
    "n3s_arr = np.zeros(12)\n",
    "\n",
    "for i in range(len(lamb)):\n",
    "    n_1 = 0\n",
    "    P_1 = 0\n",
    "    n_2 = 0\n",
    "    P_2 = 0\n",
    "    n_3 = 0\n",
    "    ns_3 = 0\n",
    "    P_3 = 0\n",
    "    Ps_3 = 0\n",
    "    while P_1 < 0.9:\n",
    "        P_1 += poisson(lamb[i], n_1)\n",
    "        n_1 += 1\n",
    "    n1_arr[i] = n_1-1\n",
    "    while P_2 < 0.1:\n",
    "        P_2 += poisson(lamb[i], n_2)\n",
    "        n_2 += 1\n",
    "    n2_arr[i] = n_2\n",
    "    while P_3 < 0.95:\n",
    "        P_3 += poisson(lamb[i], n_3)\n",
    "        n_3 += 1\n",
    "    n3_arr[i] = n_3-1\n",
    "    while Ps_3 < 0.05:\n",
    "        Ps_3 += poisson(lamb[i], ns_3)\n",
    "        ns_3 += 1\n",
    "    n3s_arr[i] = ns_3\n",
    "\n",
    "print('i: n = ', n1_arr)\n",
    "print('ii: n = ', n2_arr)\n",
    "print('ii: n = ', n3_arr, 'n´ = ', n3s_arr)"
   ]
  },
  {
   "cell_type": "code",
   "execution_count": 32,
   "metadata": {},
   "outputs": [
    {
     "name": "stdout",
     "output_type": "stream",
     "text": [
      "i: l =  [ 2.30258509  3.88972016  5.32232034  6.68078306  7.99358958  9.27467389\n",
      " 12.1587101  16.52424831 19.97593575 22.99169197 25.79647636 28.49805889\n",
      " 31.14873428]\n",
      "ii: l =  [0.         0.10536051 0.10402945 1.10206532 1.74476956 2.43259102\n",
      " 3.15189803 3.8947668  4.65611817 5.43246805 6.2213046  7.02074659\n",
      " 7.82934202]\n",
      "ii: l =  [ 2.99573227  4.74386452  6.29579362  7.75365652  9.15351902 13.41274732\n",
      " 14.5411005  18.38160849 21.61123896 24.57464218 27.42042685 30.21371555\n",
      " 32.98338795] l´ =  [0.         0.05129329 0.12361066 0.32158661 1.36631839 1.97014957\n",
      " 2.61301474 3.28531568 3.98082278 4.69522754 5.42540569 6.16900729\n",
      " 6.92421251]\n"
     ]
    }
   ],
   "source": [
    "def func(lamb, n, case):\n",
    "    P = 0\n",
    "    \n",
    "    if n == 0:\n",
    "        P = (np.exp(-1*lamb))\n",
    "\n",
    "    else:\n",
    "        if case == 1 or case == 3:\n",
    "            for k in range(n+1):\n",
    "                P += ((lamb**k / math.factorial(k) * np.exp(-1*lamb)))\n",
    "        else:\n",
    "            for k in range(n):\n",
    "                P += ((lamb**k / math.factorial(k) * np.exp(-1*lamb)))\n",
    "            \n",
    "    if case == 1:\n",
    "        P = np.abs(0.1 - P)\n",
    "    elif case == 2:\n",
    "        P = np.abs(0.1 - (1 - P))\n",
    "    elif case == 3:\n",
    "        P = np.abs(0.05 - P)\n",
    "    elif case == 4:\n",
    "        P = np.abs(0.05 - (1 - P))\n",
    "    \n",
    "    return P\n",
    "\n",
    "n = np.linspace(0,12,13).astype(int)\n",
    "\n",
    "l1_arr = np.zeros(13)\n",
    "l2_arr = np.zeros(13)\n",
    "l3_arr = np.zeros(13)\n",
    "l3s_arr = np.zeros(13)\n",
    "\n",
    "for i in n:   \n",
    "    \n",
    "    case = 1\n",
    "    initial = np.array([i+i*1.6])\n",
    "    fit_i_b = optimize.minimize(func, initial, args = (i, case))\n",
    "    l1_arr[i] = fit_i_b.x[0]\n",
    "    \n",
    "    case = 2\n",
    "    if i == 0:\n",
    "        initial = np.array([i])\n",
    "    elif i ==1:\n",
    "        initial = np.array([i-1])\n",
    "    else:\n",
    "        initial = np.array([i-i*0.39])\n",
    "    fit_ii_a = optimize.minimize(func, initial, args = (i, case))\n",
    "    l2_arr[i] = fit_ii_a.x[0]\n",
    "    if l2_arr[i] < 0:\n",
    "        l2_arr[i] = 0\n",
    "    if i == 0:\n",
    "        l2_arr[i] = 0\n",
    "    \n",
    "    case = 3\n",
    "    initial = np.array([i+i*1.75])\n",
    "    fit_iii_b = optimize.minimize(func, initial, args = (i, case))\n",
    "    l3_arr[i] = fit_iii_b.x[0]\n",
    "    case = 4\n",
    "    if i == 0:\n",
    "        initial = np.array([i])\n",
    "    elif i ==1:\n",
    "        initial = np.array([i-1])\n",
    "    else:\n",
    "        initial = np.array([i-i*0.46])\n",
    "    fit_iii_a = optimize.minimize(func, initial, args = (i, case))\n",
    "    l3s_arr[i] = fit_iii_a.x[0]\n",
    "    if l3s_arr[i] < 0:\n",
    "        l3s_arr[i] = 0\n",
    "    if i == 0:\n",
    "        l3s_arr[i] = 0\n",
    "\n",
    "print('i: l = ', l1_arr)\n",
    "print('ii: l = ', l2_arr)\n",
    "print('ii: l = ', l3_arr, 'l´ = ', l3s_arr)"
   ]
  },
  {
   "cell_type": "markdown",
   "metadata": {},
   "source": [
    "Obviously wrong due to sensitivity of scipy.optimize on choice of initial value. Other optimization method necessary."
   ]
  },
  {
   "cell_type": "code",
   "execution_count": 33,
   "metadata": {},
   "outputs": [
    {
     "name": "stdout",
     "output_type": "stream",
     "text": [
      "Upper limit for n:  14.472412830150502  events\n",
      "Lower limit for n:  3.2853156858784187  events\n",
      "Standard error: + 7.4724128301505015  and -  3.7146843141215813  events\n",
      "Half life:  -inf  years\n",
      "Standard error: + nan  and -  nan  years\n"
     ]
    },
    {
     "name": "stderr",
     "output_type": "stream",
     "text": [
      "<ipython-input-33-476509914bab>:35: RuntimeWarning: divide by zero encountered in double_scalars\n",
      "  half_life = 1 / (-1 * np.log(n_p_t/n_p_0))\n",
      "<ipython-input-33-476509914bab>:39: RuntimeWarning: divide by zero encountered in double_scalars\n",
      "  deriv = - n_p_0 / (1 / (-1 * np.log(n_p_t/n_p_0))) * np.exp(-2 * 1 / (-1 * np.log(n_p_t/n_p_0)))\n",
      "<ipython-input-33-476509914bab>:39: RuntimeWarning: invalid value encountered in double_scalars\n",
      "  deriv = - n_p_0 / (1 / (-1 * np.log(n_p_t/n_p_0))) * np.exp(-2 * 1 / (-1 * np.log(n_p_t/n_p_0)))\n"
     ]
    }
   ],
   "source": [
    "def func(lamb, n, case):\n",
    "    P = 0\n",
    "    \n",
    "    if n == 0:\n",
    "        P = (np.exp(-1*lamb))\n",
    "\n",
    "    else:\n",
    "        if case == 1:\n",
    "            for k in range(n+1):\n",
    "                P += ((lamb**k / math.factorial(k) * np.exp(-1*lamb)))\n",
    "        else:\n",
    "            for k in range(n):\n",
    "                P += ((lamb**k / math.factorial(k) * np.exp(-1*lamb)))\n",
    "\n",
    "    if case == 1:\n",
    "        P = np.abs(0.05 - P)\n",
    "    elif case == 2:\n",
    "        P = np.abs(0.05 - (1 - P))\n",
    "    \n",
    "    return P\n",
    "\n",
    "n_p_0 = 5.97 * 10**(32)\n",
    "n = 7\n",
    "\n",
    "initial = np.array([7])\n",
    "\n",
    "upper = optimize.minimize(func, initial, args = (n, 1))\n",
    "lower = optimize.minimize(func, initial, args = (n, 2))\n",
    "\n",
    "print(\"Upper limit for n: \",upper.x[0], \" events\")\n",
    "print(\"Lower limit for n: \",lower.x[0], \" events\")\n",
    "print(\"Standard error: +\",upper.x[0] - 7, \" and - \",  7 - lower.x[0], \" events\")\n",
    "\n",
    "n_p_t = n_p_0 - n\n",
    "half_life = 1 / (-1 * np.log(n_p_t/n_p_0))\n",
    "\n",
    "print(\"Half life: \", half_life, ' years')\n",
    "\n",
    "deriv = - n_p_0 / (1 / (-1 * np.log(n_p_t/n_p_0))) * np.exp(-2 * 1 / (-1 * np.log(n_p_t/n_p_0)))\n",
    "\n",
    "half_life_upper = np.sqrt(deriv**2 * (upper.x[0] - 7)**2)\n",
    "half_life_lower = np.sqrt(deriv**2 * (7 - lower.x[0])**2)\n",
    "\n",
    "print(\"Standard error: +\", half_life_upper, \" and - \",  half_life_lower, \" years\")"
   ]
  },
  {
   "cell_type": "markdown",
   "metadata": {},
   "source": [
    "Obviously inaccurate."
   ]
  },
  {
   "cell_type": "code",
   "execution_count": 34,
   "metadata": {},
   "outputs": [],
   "source": [
    "def likelihood(lamb, n, case):\n",
    "    \n",
    "    P = 0\n",
    "    \n",
    "    if n == 0:\n",
    "        P = (np.exp(-1*lamb))\n",
    "\n",
    "    else:\n",
    "        if case == 1:\n",
    "            for k in range(n+1):\n",
    "                P += ((lamb**k / math.factorial(k) * np.exp(-1*lamb)))\n",
    "        else:\n",
    "            for k in range(n):\n",
    "                P += ((lamb**k / math.factorial(k) * np.exp(-1*lamb)))\n",
    "\n",
    "    if case == 1:\n",
    "        P = np.abs(0.05 - P)\n",
    "    elif case == 2:\n",
    "        P = np.abs(0.05 - (1 - P))\n",
    "    \n",
    "    return P\n",
    "\n",
    "\n",
    "    "
   ]
  }
 ],
 "metadata": {
  "kernelspec": {
   "display_name": "Python 3",
   "language": "python",
   "name": "python3"
  },
  "language_info": {
   "codemirror_mode": {
    "name": "ipython",
    "version": 3
   },
   "file_extension": ".py",
   "mimetype": "text/x-python",
   "name": "python",
   "nbconvert_exporter": "python",
   "pygments_lexer": "ipython3",
   "version": "3.8.5"
  }
 },
 "nbformat": 4,
 "nbformat_minor": 4
}
