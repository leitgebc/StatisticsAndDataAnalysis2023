{
 "cells": [
  {
   "cell_type": "code",
   "execution_count": 79,
   "metadata": {},
   "outputs": [],
   "source": [
    "import numpy as np\n",
    "from scipy import stats as st\n",
    "from matplotlib import pyplot as plt"
   ]
  },
  {
   "cell_type": "markdown",
   "metadata": {},
   "source": [
    "# Exercise 1"
   ]
  },
  {
   "cell_type": "code",
   "execution_count": 80,
   "metadata": {},
   "outputs": [
    {
     "name": "stdout",
     "output_type": "stream",
     "text": [
      "Gaussian Distribution:\n",
      "Arithmetic Mean: Bias -  0.007  cm ; Variance -  10.005  cm²\n",
      "Median: Bias -  -0.003  cm ; Variance -  13.942  cm²\n",
      "Geometric Mean: Bias -  -0.258  cm ; Variance -  10.044  cm²\n",
      "Mode: Bias -  0.138  cm ; Variance -  52.281  cm²\n",
      "Uniform Distribution:\n",
      "Arithmetic Mean: Bias -  -0.002  cm ; Variance -  0.841  cm²\n",
      "Median: Bias -  -0.01  cm ; Variance -  1.927  cm²\n",
      "Geometric Mean: Bias -  -0.024  cm ; Variance -  0.841  cm²\n",
      "Mode: Bias -  -0.253  cm ; Variance -  7.957  cm²\n"
     ]
    }
   ],
   "source": [
    "arith_gauss = np.zeros(10000)\n",
    "arith_uniform = np.zeros(10000)\n",
    "\n",
    "med_gauss = np.zeros(10000)\n",
    "med_uniform = np.zeros(10000)\n",
    "\n",
    "geo_gauss = np.zeros(10000)\n",
    "geo_uniform = np.zeros(10000)\n",
    "\n",
    "mode_gauss = np.zeros(10000)\n",
    "mode_uniform = np.zeros(10000)\n",
    "\n",
    "for i in range(10000):\n",
    "\n",
    "    gauss = np.round(np.random.normal(loc = 170, scale = 10, size = 10), 1)\n",
    "    uniform = np.round(np.random.uniform(low = 165, high = 175, size = 10), 1)\n",
    "    \n",
    "    arith_gauss[i] = np.mean(gauss)\n",
    "    arith_uniform[i] = np.mean(uniform)\n",
    "    \n",
    "    med_gauss[i] = np.median(gauss)\n",
    "    med_uniform[i] = np.median(uniform)\n",
    "    \n",
    "    geo_gauss[i] = gauss.prod()**(1/len(gauss))\n",
    "    geo_uniform[i] = uniform.prod()**(1/len(gauss))\n",
    "    \n",
    "    if len(np.unique(gauss)) == len(gauss):\n",
    "        mode_gauss[i] = np.nan\n",
    "    else:\n",
    "        mode_gauss[i] = st.mode(gauss)[0]\n",
    "        \n",
    "    if len(np.unique(uniform)) == len(uniform):\n",
    "        mode_uniform[i] = np.nan\n",
    "    else:\n",
    "        mode_uniform[i] = st.mode(uniform)[0]\n",
    "\n",
    "print('Gaussian Distribution:')\n",
    "print('Arithmetic Mean: Bias - ', np.round(np.mean(arith_gauss)-170,3), ' cm ; Variance - ', np.round(np.var(arith_gauss),3), ' cm²')\n",
    "print('Median: Bias - ', np.round(np.mean(med_gauss)-170,3), ' cm ; Variance - ', np.round(np.var(med_gauss),3), ' cm²')\n",
    "print('Geometric Mean: Bias - ', np.round(np.mean(geo_gauss)-170,3), ' cm ; Variance - ', np.round(np.var(geo_gauss),3), ' cm²')\n",
    "print('Mode: Bias - ', np.round(np.nanmean(mode_gauss)-170,3), ' cm ; Variance - ', np.round(np.nanvar(mode_gauss),3), ' cm²')\n",
    "\n",
    "print('Uniform Distribution:')\n",
    "print('Arithmetic Mean: Bias - ', np.round(np.mean(arith_uniform)-170,3), ' cm ; Variance - ', np.round(np.var(arith_uniform),3), ' cm²')\n",
    "print('Median: Bias - ', np.round(np.mean(med_uniform)-170,3), ' cm ; Variance - ', np.round(np.var(med_uniform),3), ' cm²')\n",
    "print('Geometric Mean: Bias - ', np.round(np.mean(geo_uniform)-170,3), ' cm ; Variance - ', np.round(np.var(geo_uniform),3), ' cm²')\n",
    "print('Mode: Bias - ', np.round(np.nanmean(mode_uniform)-170,3), ' cm ; Variance - ', np.round(np.nanvar(mode_uniform),3), ' cm²')"
   ]
  },
  {
   "cell_type": "markdown",
   "metadata": {},
   "source": [
    "# Exercise 2"
   ]
  },
  {
   "cell_type": "code",
   "execution_count": 81,
   "metadata": {},
   "outputs": [
    {
     "data": {
      "image/png": "[encoded data removed]",
      "text/plain": [
       "<Figure size 432x288 with 1 Axes>"
      ]
     },
     "metadata": {
      "needs_background": "light"
     },
     "output_type": "display_data"
    }
   ],
   "source": [
    "def f_y(a,b,n,x):\n",
    "    return a*x+b\n",
    "\n",
    "def estimator(x,y,b):\n",
    "    a = (np.sum(y-b)) / (np.sum(x))\n",
    "    return a\n",
    "\n",
    "n = 10\n",
    "a = 0.5\n",
    "b = 1\n",
    "sigma_y = 0.05\n",
    "\n",
    "a_fit = np.zeros(1000)\n",
    "b_fit = np.zeros(1000)\n",
    "estim = np.zeros(1000)\n",
    "\n",
    "for i in range(1000):\n",
    "    \n",
    "    gauss_noise = np.random.normal(loc = 0, scale = sigma_y, size = n)\n",
    "    x = np.random.uniform(low = 0, high = 1, size = n)\n",
    "    y = f_y(a,b,n,x) + gauss_noise\n",
    "    \n",
    "    a_fit[i], b_fit[i] = np.polyfit(x,y,1)\n",
    "    \n",
    "    estim[i] = estimator(x,y,b)\n",
    "\n",
    "    if i == 500:\n",
    "        A_fit = a_fit[i]\n",
    "        B_fit = b_fit[i]\n",
    "        X = x\n",
    "        Y = y\n",
    "    \n",
    "plt.figure(1)\n",
    "plt.plot(X,Y, 'ro', linestyle=\"None\", label = 'data')\n",
    "plt.plot(np.linspace(np.min(X), np.max(X), 1000), A_fit*np.linspace(np.min(X), np.max(X), 1000)+B_fit, label = 'fit')\n",
    "plt.legend()\n",
    "plt.show()"
   ]
  },
  {
   "cell_type": "code",
   "execution_count": 82,
   "metadata": {},
   "outputs": [
    {
     "name": "stdout",
     "output_type": "stream",
     "text": [
      "Bias of the estimator:  0.0008380003982787487\n"
     ]
    }
   ],
   "source": [
    "bias = np.mean(estim) - a\n",
    "\n",
    "print('Bias of the estimator: ', bias)"
   ]
  },
  {
   "cell_type": "markdown",
   "metadata": {},
   "source": [
    "The estimator is biased with the bias being the value above."
   ]
  },
  {
   "cell_type": "code",
   "execution_count": 83,
   "metadata": {
    "scrolled": true
   },
   "outputs": [
    {
     "data": {
      "image/png": "[encoded data removed]",
      "text/plain": [
       "<Figure size 432x288 with 1 Axes>"
      ]
     },
     "metadata": {
      "needs_background": "light"
     },
     "output_type": "display_data"
    },
    {
     "name": "stdout",
     "output_type": "stream",
     "text": [
      "Bias of the estimator:  -0.0004513847370479773\n"
     ]
    }
   ],
   "source": [
    "def f_y(a,b,n,x):\n",
    "    return a*x+b\n",
    "\n",
    "def estimator(x,y,b):\n",
    "    a = (np.sum(y-b)) / (np.sum(x))\n",
    "    return a\n",
    "\n",
    "n = 10\n",
    "a = 0.5\n",
    "b = 1\n",
    "sigma_y = 0.05\n",
    "sigma_x = 0.05\n",
    "\n",
    "a_fit = np.zeros(1000)\n",
    "b_fit = np.zeros(1000)\n",
    "estim = np.zeros(1000)\n",
    "\n",
    "for i in range(1000):\n",
    "    \n",
    "    gauss_noise_y = np.random.normal(loc = 0, scale = sigma_y, size = n)\n",
    "    gauss_noise_x = np.random.normal(loc = 0, scale = sigma_y, size = n)\n",
    "    x = np.random.uniform(low = 0, high = 1, size = n) + gauss_noise_x\n",
    "    y = f_y(a,b,n,x) + gauss_noise_y\n",
    "    \n",
    "    a_fit[i], b_fit[i] = np.polyfit(x,y,1)\n",
    "    \n",
    "    estim[i] = estimator(x,y,b)\n",
    "\n",
    "    if i == 500:\n",
    "        A_fit = a_fit[i]\n",
    "        B_fit = b_fit[i]\n",
    "        X = x\n",
    "        Y = y\n",
    "    \n",
    "plt.figure(2)\n",
    "plt.plot(X,Y, 'ro', linestyle=\"None\", label = 'data')\n",
    "plt.plot(np.linspace(np.min(X), np.max(X), 1000), A_fit*np.linspace(np.min(X), np.max(X), 1000)+B_fit, label = 'fit')\n",
    "plt.legend()\n",
    "plt.show()\n",
    "\n",
    "bias = np.mean(estim) - a\n",
    "\n",
    "print('Bias of the estimator: ', bias)"
   ]
  },
  {
   "cell_type": "code",
   "execution_count": 84,
   "metadata": {},
   "outputs": [
    {
     "data": {
      "image/png": "[encoded data removed]",
      "text/plain": [
       "<Figure size 432x288 with 1 Axes>"
      ]
     },
     "metadata": {
      "needs_background": "light"
     },
     "output_type": "display_data"
    },
    {
     "name": "stdout",
     "output_type": "stream",
     "text": [
      "Bias of the estimator:  -0.006735910683817459\n"
     ]
    }
   ],
   "source": [
    "def f_y(a,b,n,x):\n",
    "    return a*x+b\n",
    "\n",
    "def estimator(x,y,b):\n",
    "    a = (np.sum(y-b)) / (np.sum(x))\n",
    "    return a\n",
    "\n",
    "n = 10\n",
    "a = 0.5\n",
    "b = 1\n",
    "sigma_y = 0.2\n",
    "sigma_x = 0.2\n",
    "\n",
    "a_fit = np.zeros(1000)\n",
    "b_fit = np.zeros(1000)\n",
    "estim = np.zeros(1000)\n",
    "\n",
    "for i in range(1000):\n",
    "    \n",
    "    gauss_noise_y = np.random.normal(loc = 0, scale = sigma_y, size = n)\n",
    "    gauss_noise_x = np.random.normal(loc = 0, scale = sigma_y, size = n)\n",
    "    x = np.random.uniform(low = 0, high = 1, size = n) + gauss_noise_x\n",
    "    y = f_y(a,b,n,x) + gauss_noise_y\n",
    "    \n",
    "    a_fit[i], b_fit[i] = np.polyfit(x,y,1)\n",
    "    \n",
    "    estim[i] = estimator(x,y,b)\n",
    "\n",
    "    if i == 500:\n",
    "        A_fit = a_fit[i]\n",
    "        B_fit = b_fit[i]\n",
    "        X = x\n",
    "        Y = y\n",
    "    \n",
    "plt.figure(3)\n",
    "plt.plot(X,Y, 'ro', linestyle=\"None\", label = 'data')\n",
    "plt.plot(np.linspace(np.min(X), np.max(X), 1000), A_fit*np.linspace(np.min(X), np.max(X), 1000)+B_fit, label = 'fit')\n",
    "plt.legend()\n",
    "plt.show()\n",
    "\n",
    "bias = np.mean(estim) - a\n",
    "\n",
    "print('Bias of the estimator: ', bias)"
   ]
  },
  {
   "cell_type": "markdown",
   "metadata": {},
   "source": [
    "Higher gaussian errors for x and y lead to a wider spread of the data and to a larger value of the bias of the estimator."
   ]
  },
  {
   "cell_type": "code",
   "execution_count": 85,
   "metadata": {},
   "outputs": [
    {
     "name": "stdout",
     "output_type": "stream",
     "text": [
      "Bias of the estimator:  0.0003219140444034041\n",
      "Bias of the estimator:  -0.00021755464046308015\n",
      "Bias of the estimator:  -0.0002446757532283961\n",
      "Bias of the estimator:  8.199622091775716e-05\n",
      "Bias of the estimator:  7.976749654858839e-05\n",
      "Bias of the estimator:  -1.2455973199987369e-05\n",
      "Bias of the estimator:  4.549428858380278e-05\n",
      "Bias of the estimator:  2.1317014210708862e-05\n",
      "Bias of the estimator:  -4.340735763108672e-06\n",
      "Bias of the estimator:  9.330018425623976e-07\n",
      "Bias of the estimator:  -6.239756925596751e-07\n"
     ]
    },
    {
     "data": {
      "image/png": "[encoded data removed]",
      "text/plain": [
       "<Figure size 432x288 with 1 Axes>"
      ]
     },
     "metadata": {
      "needs_background": "light"
     },
     "output_type": "display_data"
    },
    {
     "name": "stdout",
     "output_type": "stream",
     "text": [
      "Estimator values for increasing n:  [0.48677398 0.48821045 0.50267172 0.49873823 0.4999135  0.50020024\n",
      " 0.49881212 0.49970577 0.50000085 0.49992863 0.49999384]\n"
     ]
    }
   ],
   "source": [
    "def f_y(a,b,n,x):\n",
    "    return a*x+b\n",
    "\n",
    "def estimator(x,y,b):\n",
    "    a = (np.sum(y-b)) / (np.sum(x))\n",
    "    return a\n",
    "\n",
    "n = np.array([10,20,50,100,200,500,1000,10000,50000, 100000,1000000])\n",
    "Estim = np.zeros(len(n))\n",
    "\n",
    "for k in range(len(n)):\n",
    "    \n",
    "    a = 0.5\n",
    "    b = 1\n",
    "    sigma_y = 0.02\n",
    "    sigma_x = 0.02\n",
    "\n",
    "    a_fit = np.zeros(1000)\n",
    "    b_fit = np.zeros(1000)\n",
    "    estim = np.zeros(1000)\n",
    "    \n",
    "    for i in range(1000):\n",
    "\n",
    "        gauss_noise_y = np.random.normal(loc = 0, scale = sigma_y, size = n[k])\n",
    "        gauss_noise_x = np.random.normal(loc = 0, scale = sigma_y, size = n[k])\n",
    "        x = np.random.uniform(low = 0, high = 1, size = n[k]) + gauss_noise_x\n",
    "        y = f_y(a,b,n[k],x) + gauss_noise_y\n",
    "\n",
    "        a_fit[i], b_fit[i] = np.polyfit(x,y,1)\n",
    "\n",
    "        estim[i] = estimator(x,y,b)\n",
    "\n",
    "        if i == 500: \n",
    "            Estim[k] = estim[i]\n",
    "            if k == 4:\n",
    "                A_fit = a_fit[i]\n",
    "                B_fit = b_fit[i]\n",
    "                X = x\n",
    "                Y = y\n",
    "            \n",
    "    bias = np.mean(estim) - a\n",
    "    print('Bias of the estimator: ', bias)\n",
    "    \n",
    "plt.figure(4)\n",
    "plt.plot(X,Y, 'ro', linestyle=\"None\", label = 'data')\n",
    "plt.plot(np.linspace(np.min(X), np.max(X), 1000), A_fit*np.linspace(np.min(X), np.max(X), 1000)+B_fit, label = 'fit')\n",
    "plt.legend()\n",
    "plt.show()\n",
    "\n",
    "print('Estimator values for increasing n: ', Estim)"
   ]
  },
  {
   "cell_type": "markdown",
   "metadata": {},
   "source": [
    "The estimator seems to be asymptotically unbiased as the bias is decreasing with increasing number of n. Also a check of some randomly picked estimator values shows that the estimator tends to the true value of a for n -> infinity, so the estimator appears to be consistent."
   ]
  },
  {
   "cell_type": "code",
   "execution_count": null,
   "metadata": {},
   "outputs": [],
   "source": []
  }
 ],
 "metadata": {
  "kernelspec": {
   "display_name": "Python 3",
   "language": "python",
   "name": "python3"
  },
  "language_info": {
   "codemirror_mode": {
    "name": "ipython",
    "version": 3
   },
   "file_extension": ".py",
   "mimetype": "text/x-python",
   "name": "python",
   "nbconvert_exporter": "python",
   "pygments_lexer": "ipython3",
   "version": "3.8.5"
  }
 },
 "nbformat": 4,
 "nbformat_minor": 4
}
