{
 "cells": [
  {
   "cell_type": "code",
   "execution_count": 1,
   "id": "ad75b45b",
   "metadata": {},
   "outputs": [],
   "source": [
    "import numpy as np"
   ]
  },
  {
   "cell_type": "markdown",
   "id": "9225b3f9",
   "metadata": {},
   "source": [
    "Task 1.\n",
    "\n",
    "a) The prob. of the coin chosen at random being unfair is $P(U)=\\frac{1}{10}$\n",
    "\n",
    "b) The prob. of getting tail with a random coin is $P(T) = P(T|U)P(U)+P(T|F)(F)= 1*\\frac{1}{10}+0.5*\\frac{9}{10}=0.55$\n",
    "\n",
    "(Note: The framing of \"if we throw this coin\" is a little bit confusing, as it may hint towards the unfair coin)\n",
    "\n",
    "c) We are looking for the probability that a coin is unfair, giving that we already tossed it and gained tail ($P(U|T)$), so:\n",
    "\n",
    "$P(U|T)P(T) = P(T|U)P(U)$\n",
    "\n",
    "$\\Rightarrow P(U|T)= \\frac{P(T|U)P(U)}{P(T)} = \\frac{1*0.1}{0.55} \\approx 0.182$"
   ]
  },
  {
   "cell_type": "code",
   "execution_count": 2,
   "id": "81c84005",
   "metadata": {},
   "outputs": [],
   "source": [
    "def flip(): #this flips a coin\n",
    "    result = np.random.random()\n",
    "    if np.random.random() <= 0.5:\n",
    "        result = 0 #Heads\n",
    "    else:\n",
    "        result = 1 #Tails\n",
    "    return result\n",
    "\n",
    "def choose_and_flip(Coin_array): #this chooses a a fair/unfair coin and flips fair ones\n",
    "    coin = np.random.choice(Coin_array)\n",
    "    if coin == 0: #Coin is fair\n",
    "        result = flip()\n",
    "    else: #Coin is unfair\n",
    "        result = 1\n",
    "    return result, coin #it also returns the coin it chose to compare later\n",
    "\n",
    "def test(result, coin): #this function checks if a coin that landed on tails is unfair\n",
    "    if result == 1: #if the coin lands on tails\n",
    "        if coin == 1: #and is unfair\n",
    "            faketest = 1 \n",
    "        else: #and is fair\n",
    "            faketest = 0\n",
    "    return faketest"
   ]
  },
  {
   "cell_type": "code",
   "execution_count": 3,
   "id": "515f25ed",
   "metadata": {},
   "outputs": [
    {
     "name": "stdout",
     "output_type": "stream",
     "text": [
      "The simulation yields that 0.1822 of all tail result stem from an unfair coin, this is agreeing with the calculation.\n"
     ]
    }
   ],
   "source": [
    "Coin_array = [0,0,0,0,0,0,0,0,0,1]\n",
    "choose_and_flip(Coin_array)\n",
    "\n",
    "test_size = 1000000 #number of test\n",
    "fake_counter = 0 #counter how many tails throws are fake\n",
    "tail_counter = 0 #counter of total tails throws\n",
    "for i in range(test_size):\n",
    "    throw,coin = choose_and_flip(Coin_array)\n",
    "    if throw == 1:\n",
    "        fake_counter += test(throw,coin)\n",
    "        tail_counter += 1\n",
    "P_U_given_T = np.round(fake_counter/tail_counter,4)\n",
    "print(f\"The simulation yields that {P_U_given_T} of all tail result stem from an unfair coin, this is agreeing with the calculation.\")\n"
   ]
  },
  {
   "cell_type": "markdown",
   "id": "0622f8e7",
   "metadata": {},
   "source": [
    "Task 2.\n",
    "a)\n",
    "\n",
    "The Poisson distribution is the probability mass function  given by\n",
    "\n",
    "$Pr(X=k)=\\frac{\\lambda^ke^{-\\lambda}}{k!}$\n",
    "\n",
    "or with $\\lambda = rt$,  with r being the rate at which events occur, and t being a timeframe.\n",
    "\n",
    "Given $\\lambda = 14.6 \\frac{meteors}{h}*t$ and $t = 0.5 h$\n",
    "\n",
    "We get for X=0,1,2,3,4:\n",
    "\n",
    "$Pr(X<5) = \\sum_{k=0}^{4}\\frac{\\lambda^ke^{-\\lambda}}{k!} = \\sum_{k=0}^{4}\\frac{7.3^ke^{-7.3}}{k!}\\\\\n",
    "= (0.07+0.49+1.8+4.4+8)*10^{-2}=0.148$"
   ]
  },
  {
   "cell_type": "markdown",
   "id": "9484c042",
   "metadata": {},
   "source": [
    "Task 2.\n",
    "b)\n",
    "\n",
    "The Guassian approx. is :\n",
    "\n",
    "$P(x<5) = \\int_0^5dx \\frac{1}{\\sqrt{2\\pi\\lambda}}e^{-\\frac{(x-\\lambda)^2}{2\\lambda}}$\n",
    "\n",
    "looking up the result for that distribution:\n",
    "\n",
    "$p(x<5)= 0.1937$"
   ]
  },
  {
   "cell_type": "code",
   "execution_count": null,
   "id": "26bcb69b",
   "metadata": {},
   "outputs": [],
   "source": []
  }
 ],
 "metadata": {
  "kernelspec": {
   "display_name": "Python 3 (ipykernel)",
   "language": "python",
   "name": "python3"
  },
  "language_info": {
   "codemirror_mode": {
    "name": "ipython",
    "version": 3
   },
   "file_extension": ".py",
   "mimetype": "text/x-python",
   "name": "python",
   "nbconvert_exporter": "python",
   "pygments_lexer": "ipython3",
   "version": "3.11.4"
  }
 },
 "nbformat": 4,
 "nbformat_minor": 5
}
