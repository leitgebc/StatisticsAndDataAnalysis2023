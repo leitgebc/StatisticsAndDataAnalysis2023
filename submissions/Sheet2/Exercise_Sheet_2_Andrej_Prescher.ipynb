{
 "cells": [
  {
   "cell_type": "code",
   "execution_count": 1,
   "metadata": {},
   "outputs": [],
   "source": [
    "import numpy as np\n",
    "import random"
   ]
  },
  {
   "cell_type": "code",
   "execution_count": 2,
   "metadata": {},
   "outputs": [
    {
     "name": "stdout",
     "output_type": "stream",
     "text": [
      "The relative frequency of unfair coin picks with the result of a toss being \"tail\" describes the conditional  probability of an unfair coin pick under the condition \"tail\".  The calculated value in this simulation:  0.1819958581884488\n"
     ]
    }
   ],
   "source": [
    "unfair_coin = 1   # Heads is 0 and tail is 1\n",
    "\n",
    "coin_array = np.zeros(10)\n",
    "coin_array[0] = unfair_coin\n",
    "\n",
    "index_results = np.zeros(1000000)\n",
    "toss_results = np.zeros(1000000)\n",
    "for trial in range(1000000):\n",
    "    for i in range(1,10):\n",
    "        coin_array[i] = np.random.randint(2)\n",
    "    random_choice_index = random.randint(0,len(coin_array)-1)\n",
    "    index_results[trial] = random_choice_index\n",
    "    toss_results[trial] = coin_array[random_choice_index]\n",
    "    \n",
    "index_results = index_results.astype(int)\n",
    "toss_results = toss_results.astype(int)\n",
    "\n",
    "p_unfair_when_tail = sum(1 for x in index_results if x == 1) / sum(1 for y in toss_results if y == 1)\n",
    "print('The relative frequency of unfair coin picks with the result of a toss being \"tail\" describes the conditional ', \n",
    "      'probability of an unfair coin pick under the condition \"tail\". ',\n",
    "      'The calculated value in this simulation: ', p_unfair_when_tail)"
   ]
  },
  {
   "cell_type": "code",
   "execution_count": null,
   "metadata": {},
   "outputs": [],
   "source": []
  }
 ],
 "metadata": {
  "kernelspec": {
   "display_name": "Python 3",
   "language": "python",
   "name": "python3"
  },
  "language_info": {
   "codemirror_mode": {
    "name": "ipython",
    "version": 3
   },
   "file_extension": ".py",
   "mimetype": "text/x-python",
   "name": "python",
   "nbconvert_exporter": "python",
   "pygments_lexer": "ipython3",
   "version": "3.8.5"
  }
 },
 "nbformat": 4,
 "nbformat_minor": 4
}
