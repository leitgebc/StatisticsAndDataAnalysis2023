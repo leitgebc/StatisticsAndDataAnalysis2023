{
 "cells": [
  {
   "cell_type": "markdown",
   "id": "733d48cb-8539-4cc3-abaa-94c5386c7e8c",
   "metadata": {},
   "source": [
    "# Introduction to Python\n",
    "\n",
    "## Pandas\n",
    "\n",
    "As mentioned in the previous section, in the case of different data types, Pandas provides a convenient and efficient way of operation. The Pandas library should also be installed in your conda environment (it requires the NumPy library to be installed as well). You can import it in your code as follows:"
   ]
  },
  {
   "cell_type": "code",
   "execution_count": 2,
   "id": "897ab4d2-5b54-40fd-8493-02dbe5b56d73",
   "metadata": {},
   "outputs": [
    {
     "data": {
      "text/plain": [
       "'2.1.1'"
      ]
     },
     "execution_count": 2,
     "metadata": {},
     "output_type": "execute_result"
    }
   ],
   "source": [
    "import numpy as np\n",
    "import pandas as pd\n",
    "\n",
    "pd.__version__"
   ]
  },
  {
   "cell_type": "markdown",
   "id": "e174a449-a0ec-46ff-82f6-7e8ba248a455",
   "metadata": {},
   "source": [
    "The central object provided by Pandas is the so-called dataframe. A dataframe is in principle a multi-dimensional array, where the rows and columns can be labeled and with lot's of flexibility concerning different data types and missing elements."
   ]
  },
  {
   "cell_type": "code",
   "execution_count": null,
   "id": "05b83a61-9ebc-4652-855c-b30bcd895145",
   "metadata": {},
   "outputs": [],
   "source": []
  }
 ],
 "metadata": {
  "kernelspec": {
   "display_name": "Python 3 (ipykernel)",
   "language": "python",
   "name": "python3"
  },
  "language_info": {
   "codemirror_mode": {
    "name": "ipython",
    "version": 3
   },
   "file_extension": ".py",
   "mimetype": "text/x-python",
   "name": "python",
   "nbconvert_exporter": "python",
   "pygments_lexer": "ipython3",
   "version": "3.9.18"
  }
 },
 "nbformat": 4,
 "nbformat_minor": 5
}
