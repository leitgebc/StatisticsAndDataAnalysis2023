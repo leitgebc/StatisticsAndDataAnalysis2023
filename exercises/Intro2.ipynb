{
 "cells": [
  {
   "cell_type": "markdown",
   "id": "733d48cb-8539-4cc3-abaa-94c5386c7e8c",
   "metadata": {},
   "source": [
    "# Introduction to Statistics with Python -- Part 2\n",
    "\n",
    "## Pandas\n",
    "\n",
    "As mentioned in the previous section, in the case of different data types, Pandas provides a convenient and efficient way of operation. The Pandas library should also be installed in your conda environment (it requires the NumPy library to be installed as well). You can import it in your code as follows:"
   ]
  },
  {
   "cell_type": "code",
   "execution_count": 3,
   "id": "fc0a1fb8-b31d-4fd8-8f9a-5199d7b11576",
   "metadata": {
    "tags": []
   },
   "outputs": [
    {
     "data": {
      "text/plain": [
       "'2.1.1'"
      ]
     },
     "execution_count": 3,
     "metadata": {},
     "output_type": "execute_result"
    }
   ],
   "source": [
    "import numpy as np\n",
    "import pandas as pd\n",
    "\n",
    "pd.__version__"
   ]
  },
  {
   "cell_type": "markdown",
   "id": "e174a449-a0ec-46ff-82f6-7e8ba248a455",
   "metadata": {},
   "source": [
    "Pandas objects are in principle a multi-dimensional arrays, where the rows and columns can be labeled and with lot's of flexibility concerning different data types and missing elements. There are three basic types of Pandas objects:\n",
    "- Series\n",
    "- DataFrame\n",
    "- Index"
   ]
  },
  {
   "cell_type": "markdown",
   "id": "308e093a-7da6-4779-8dc3-aca7b7ccf9d7",
   "metadata": {},
   "source": [
    "### Pandas Series\n",
    "\n",
    "Let's start with the Series object. A Pandas Series is a one-dimensional array in which data is stored by index. It can be created by using a list or an array as an input:"
   ]
  },
  {
   "cell_type": "code",
   "execution_count": 4,
   "id": "05b83a61-9ebc-4652-855c-b30bcd895145",
   "metadata": {},
   "outputs": [
    {
     "data": {
      "text/plain": [
       "0    1.5\n",
       "1    2.3\n",
       "2    3.1\n",
       "3    4.7\n",
       "dtype: float64"
      ]
     },
     "execution_count": 4,
     "metadata": {},
     "output_type": "execute_result"
    }
   ],
   "source": [
    "test_series = pd.Series([1.5, 2.3, 3.1, 4.7])\n",
    "test_series"
   ]
  },
  {
   "cell_type": "markdown",
   "id": "add2f671-a21c-43c4-85a4-215e05040e94",
   "metadata": {},
   "source": [
    "There are two columns in this Series output: The left one showing the index and the right one with the corresponding stored values. Both can be accessed directly:"
   ]
  },
  {
   "cell_type": "code",
   "execution_count": 5,
   "id": "55530aa3-55d9-4cc8-ba03-b9850327e76f",
   "metadata": {},
   "outputs": [
    {
     "name": "stdout",
     "output_type": "stream",
     "text": [
      "all series values:  [1.5 2.3 3.1 4.7]\n",
      "all series indices:  RangeIndex(start=0, stop=4, step=1)\n"
     ]
    }
   ],
   "source": [
    "print('all series values: ', test_series.values)\n",
    "print('all series indices: ', test_series.index)"
   ]
  },
  {
   "cell_type": "markdown",
   "id": "7ac715a2-f911-456d-ab3a-90eecd180c16",
   "metadata": {},
   "source": [
    "Like with NumPy arrays, individual values can be accessed via the index:"
   ]
  },
  {
   "cell_type": "code",
   "execution_count": 6,
   "id": "da5498d6-48ad-4b56-a226-9e233f69e78d",
   "metadata": {},
   "outputs": [
    {
     "name": "stdout",
     "output_type": "stream",
     "text": [
      "first element:  1.5\n",
      "first three elements:  0    1.5\n",
      "1    2.3\n",
      "2    3.1\n",
      "dtype: float64\n"
     ]
    }
   ],
   "source": [
    "print('first element: ', test_series[0])\n",
    "print('first three elements: ', test_series[0:3])"
   ]
  },
  {
   "cell_type": "markdown",
   "id": "fc537d38-a47b-499f-b5c1-fb66f32b5bb0",
   "metadata": {},
   "source": [
    "However, the big difference between a Pandas Series and a one-dimensional NumPy array is that the indices can be chosen freely for the Series (for NumPy arrays they are implicitly defined as a consecutive list of integers):"
   ]
  },
  {
   "cell_type": "code",
   "execution_count": 7,
   "id": "8840d673-0a81-466a-80d0-a3786b64a79a",
   "metadata": {},
   "outputs": [
    {
     "name": "stdout",
     "output_type": "stream",
     "text": [
      "alpha    1.5\n",
      "beta     2.3\n",
      "gamma    3.1\n",
      "delta    4.7\n",
      "dtype: float64\n",
      "\n",
      "Entry with index gamma:  3.1\n"
     ]
    }
   ],
   "source": [
    "test_series2 = pd.Series([1.5, 2.3, 3.1, 4.7], index = ['alpha', 'beta', 'gamma', 'delta'])\n",
    "print(test_series2)\n",
    "print('\\nEntry with index gamma: ', test_series2['gamma'])"
   ]
  },
  {
   "cell_type": "markdown",
   "id": "973f2c8f-2da7-4a5f-bd58-0ed3fe7aff21",
   "metadata": {},
   "source": [
    "As you can see, the Pandas Series object is in reality a kind of dictionary. It maps specific keys/indices to specific values. "
   ]
  },
  {
   "cell_type": "markdown",
   "id": "ee8aee64-d35f-443f-a543-f0709a126485",
   "metadata": {},
   "source": [
    "### Pandas DataFrame\n",
    "\n",
    "Mostly, you will be working with Pandas DataFrames when doing a statistical analysis. It shares the great adavantage of the Pandas Series that the indices of the data can be chosen flexibly. However, it is capable of handling multiple dimensions and can be thought of as a generalized NumPy array with flexible row and column indices or an extension of a Pandas Series.\n",
    "\n",
    "Consequently, it can be constructed from a NumPy array as well as a Pandas Series:"
   ]
  },
  {
   "cell_type": "code",
   "execution_count": 8,
   "id": "f022b41a-c1d9-495c-a14d-0e99974ec63f",
   "metadata": {},
   "outputs": [
    {
     "data": {
      "text/html": [
       "<div>\n",
       "<style scoped>\n",
       "    .dataframe tbody tr th:only-of-type {\n",
       "        vertical-align: middle;\n",
       "    }\n",
       "\n",
       "    .dataframe tbody tr th {\n",
       "        vertical-align: top;\n",
       "    }\n",
       "\n",
       "    .dataframe thead th {\n",
       "        text-align: right;\n",
       "    }\n",
       "</style>\n",
       "<table border=\"1\" class=\"dataframe\">\n",
       "  <thead>\n",
       "    <tr style=\"text-align: right;\">\n",
       "      <th></th>\n",
       "      <th>black</th>\n",
       "      <th>white</th>\n",
       "    </tr>\n",
       "  </thead>\n",
       "  <tbody>\n",
       "    <tr>\n",
       "      <th>low</th>\n",
       "      <td>0.494405</td>\n",
       "      <td>0.130819</td>\n",
       "    </tr>\n",
       "    <tr>\n",
       "      <th>middle</th>\n",
       "      <td>0.926033</td>\n",
       "      <td>0.692845</td>\n",
       "    </tr>\n",
       "    <tr>\n",
       "      <th>high</th>\n",
       "      <td>0.172323</td>\n",
       "      <td>0.724569</td>\n",
       "    </tr>\n",
       "  </tbody>\n",
       "</table>\n",
       "</div>"
      ],
      "text/plain": [
       "           black     white\n",
       "low     0.494405  0.130819\n",
       "middle  0.926033  0.692845\n",
       "high    0.172323  0.724569"
      ]
     },
     "execution_count": 8,
     "metadata": {},
     "output_type": "execute_result"
    }
   ],
   "source": [
    "# by NumPy array:\n",
    "arraytest1 = np.random.rand(3,2)\n",
    "frametest1 = pd.DataFrame(arraytest1, columns = ['black', 'white'], index = ['low', 'middle', 'high'])\n",
    "\n",
    "frametest1"
   ]
  },
  {
   "cell_type": "code",
   "execution_count": 9,
   "id": "a5edfd51-8363-47d6-993f-a807c93c4c15",
   "metadata": {},
   "outputs": [
    {
     "data": {
      "text/html": [
       "<div>\n",
       "<style scoped>\n",
       "    .dataframe tbody tr th:only-of-type {\n",
       "        vertical-align: middle;\n",
       "    }\n",
       "\n",
       "    .dataframe tbody tr th {\n",
       "        vertical-align: top;\n",
       "    }\n",
       "\n",
       "    .dataframe thead th {\n",
       "        text-align: right;\n",
       "    }\n",
       "</style>\n",
       "<table border=\"1\" class=\"dataframe\">\n",
       "  <thead>\n",
       "    <tr style=\"text-align: right;\">\n",
       "      <th></th>\n",
       "      <th>wager</th>\n",
       "      <th>probability</th>\n",
       "    </tr>\n",
       "  </thead>\n",
       "  <tbody>\n",
       "    <tr>\n",
       "      <th>left</th>\n",
       "      <td>3500</td>\n",
       "      <td>0.1</td>\n",
       "    </tr>\n",
       "    <tr>\n",
       "      <th>straight</th>\n",
       "      <td>2310</td>\n",
       "      <td>0.6</td>\n",
       "    </tr>\n",
       "    <tr>\n",
       "      <th>right</th>\n",
       "      <td>4300</td>\n",
       "      <td>0.5</td>\n",
       "    </tr>\n",
       "  </tbody>\n",
       "</table>\n",
       "</div>"
      ],
      "text/plain": [
       "          wager  probability\n",
       "left       3500          0.1\n",
       "straight   2310          0.6\n",
       "right      4300          0.5"
      ]
     },
     "execution_count": 9,
     "metadata": {},
     "output_type": "execute_result"
    }
   ],
   "source": [
    "# by Pandas Series:\n",
    "seriestest1 = pd.Series([3500, 2310, 4300], index = ['left', 'straight', 'right'])\n",
    "seriestest2 = pd.Series([0.1, 0.6, 0.5], index = ['left', 'straight', 'right'])\n",
    "frametest2 = pd.DataFrame({'wager': seriestest1, 'probability': seriestest2})\n",
    "\n",
    "frametest2"
   ]
  },
  {
   "cell_type": "markdown",
   "id": "922665e6-5011-4c64-93bd-3f0bc4d42a46",
   "metadata": {},
   "source": [
    "Similarly to the Series object, the indices and values can be accessed separately as well: "
   ]
  },
  {
   "cell_type": "code",
   "execution_count": 10,
   "id": "76f5e53f-b1a5-4afa-af1f-9f2d82e75cd0",
   "metadata": {},
   "outputs": [
    {
     "name": "stdout",
     "output_type": "stream",
     "text": [
      "Index(['left', 'straight', 'right'], dtype='object')\n",
      "\n",
      " [[3.50e+03 1.00e-01]\n",
      " [2.31e+03 6.00e-01]\n",
      " [4.30e+03 5.00e-01]]\n"
     ]
    }
   ],
   "source": [
    "print(frametest2.index)\n",
    "print('\\n', frametest2.values)"
   ]
  },
  {
   "cell_type": "markdown",
   "id": "9b4c86d6-3d1f-46ae-a0bd-6e7f1bd5dcf8",
   "metadata": {},
   "source": [
    "As with NumPy arrays, there is also the possibility to create a dataFrame from an external file very easily:"
   ]
  },
  {
   "cell_type": "code",
   "execution_count": 11,
   "id": "8da7adf5-b9ac-4462-942b-bc810402cbe4",
   "metadata": {},
   "outputs": [
    {
     "data": {
      "text/html": [
       "<div>\n",
       "<style scoped>\n",
       "    .dataframe tbody tr th:only-of-type {\n",
       "        vertical-align: middle;\n",
       "    }\n",
       "\n",
       "    .dataframe tbody tr th {\n",
       "        vertical-align: top;\n",
       "    }\n",
       "\n",
       "    .dataframe thead th {\n",
       "        text-align: right;\n",
       "    }\n",
       "</style>\n",
       "<table border=\"1\" class=\"dataframe\">\n",
       "  <thead>\n",
       "    <tr style=\"text-align: right;\">\n",
       "      <th></th>\n",
       "      <th>1</th>\n",
       "      <th>2</th>\n",
       "      <th>3</th>\n",
       "      <th>4</th>\n",
       "    </tr>\n",
       "  </thead>\n",
       "  <tbody>\n",
       "    <tr>\n",
       "      <th>0</th>\n",
       "      <td>5</td>\n",
       "      <td>6</td>\n",
       "      <td>7</td>\n",
       "      <td>8</td>\n",
       "    </tr>\n",
       "    <tr>\n",
       "      <th>1</th>\n",
       "      <td>9</td>\n",
       "      <td>10</td>\n",
       "      <td>11</td>\n",
       "      <td>12</td>\n",
       "    </tr>\n",
       "    <tr>\n",
       "      <th>2</th>\n",
       "      <td>13</td>\n",
       "      <td>14</td>\n",
       "      <td>15</td>\n",
       "      <td>16</td>\n",
       "    </tr>\n",
       "    <tr>\n",
       "      <th>3</th>\n",
       "      <td>17</td>\n",
       "      <td>18</td>\n",
       "      <td>19</td>\n",
       "      <td>20</td>\n",
       "    </tr>\n",
       "  </tbody>\n",
       "</table>\n",
       "</div>"
      ],
      "text/plain": [
       "    1   2   3   4\n",
       "0   5   6   7   8\n",
       "1   9  10  11  12\n",
       "2  13  14  15  16\n",
       "3  17  18  19  20"
      ]
     },
     "execution_count": 11,
     "metadata": {},
     "output_type": "execute_result"
    }
   ],
   "source": [
    "readset = pd.read_csv('data/IntroTestfile.csv')\n",
    "readset"
   ]
  },
  {
   "cell_type": "markdown",
   "id": "ceb1de61-fb2f-430c-b5f3-f84bf63f0e4c",
   "metadata": {},
   "source": [
    "### Pandas Index\n",
    "\n",
    "You have already seen the special use of indices in Series and DataFrames. The Pandas Index can however be seen as an object on its own and basically behaves like an ordered, immutable array. It has its own constructor:"
   ]
  },
  {
   "cell_type": "code",
   "execution_count": 12,
   "id": "06b8b0a7-5288-43b0-97d6-8c40cef7f1c7",
   "metadata": {},
   "outputs": [
    {
     "data": {
      "text/plain": [
       "Index([1, 2, 3, 4], dtype='int64')"
      ]
     },
     "execution_count": 12,
     "metadata": {},
     "output_type": "execute_result"
    }
   ],
   "source": [
    "indextest1 = pd.Index([1, 2, 3, 4])\n",
    "indextest1"
   ]
  },
  {
   "cell_type": "markdown",
   "id": "1fde6184-c825-4ea1-9d63-49bf22cb4bc1",
   "metadata": {},
   "source": [
    "Furthermore, it shares many of the functionalities of a NumPy array, i.e. accessing an element of the Pandas Index by its \"index\" (this time, only a standard numbering scheme) or slicing. You can also access the size, shape, dimension and type in the very same way as for NumPy arrays. What doesn't work, however, is to change an element of a Pandas Index:"
   ]
  },
  {
   "cell_type": "code",
   "execution_count": 13,
   "id": "358ba318-2cbc-468f-a060-e467c4695cc7",
   "metadata": {},
   "outputs": [
    {
     "ename": "TypeError",
     "evalue": "Index does not support mutable operations",
     "output_type": "error",
     "traceback": [
      "\u001b[0;31m---------------------------------------------------------------------------\u001b[0m",
      "\u001b[0;31mTypeError\u001b[0m                                 Traceback (most recent call last)",
      "Cell \u001b[0;32mIn[13], line 1\u001b[0m\n\u001b[0;32m----> 1\u001b[0m \u001b[43mindextest1\u001b[49m\u001b[43m[\u001b[49m\u001b[38;5;241;43m0\u001b[39;49m\u001b[43m]\u001b[49m \u001b[38;5;241m=\u001b[39m \u001b[38;5;241m2\u001b[39m\n",
      "File \u001b[0;32m~/anaconda3/envs/tutorialenv/lib/python3.9/site-packages/pandas/core/indexes/base.py:5347\u001b[0m, in \u001b[0;36mIndex.__setitem__\u001b[0;34m(self, key, value)\u001b[0m\n\u001b[1;32m   5345\u001b[0m \u001b[38;5;129m@final\u001b[39m\n\u001b[1;32m   5346\u001b[0m \u001b[38;5;28;01mdef\u001b[39;00m \u001b[38;5;21m__setitem__\u001b[39m(\u001b[38;5;28mself\u001b[39m, key, value) \u001b[38;5;241m-\u001b[39m\u001b[38;5;241m>\u001b[39m \u001b[38;5;28;01mNone\u001b[39;00m:\n\u001b[0;32m-> 5347\u001b[0m     \u001b[38;5;28;01mraise\u001b[39;00m \u001b[38;5;167;01mTypeError\u001b[39;00m(\u001b[38;5;124m\"\u001b[39m\u001b[38;5;124mIndex does not support mutable operations\u001b[39m\u001b[38;5;124m\"\u001b[39m)\n",
      "\u001b[0;31mTypeError\u001b[0m: Index does not support mutable operations"
     ]
    }
   ],
   "source": [
    "indextest1[0] = 2"
   ]
  },
  {
   "cell_type": "markdown",
   "id": "222b6411-0483-4064-af49-c94ff437d170",
   "metadata": {},
   "source": [
    "Instead of being inconvenient, this actually serves a purpose: It secures DataFrame and Series objects against any side effects a modification of the indices would have."
   ]
  },
  {
   "cell_type": "markdown",
   "id": "d9d90c9a-deb5-49db-befc-cfd8a4734101",
   "metadata": {},
   "source": [
    "### Working with DataFrames\n",
    "\n",
    "Now that you have a small overview of the functionalities provided by Pandas, let's dive more into the handling of DataFrames. Looking at one of our example dataFrames from above, we can e.g. add a new column by doing:"
   ]
  },
  {
   "cell_type": "code",
   "execution_count": null,
   "id": "8271edab-5e68-4ea8-9e11-f5e25d15aa23",
   "metadata": {},
   "outputs": [],
   "source": [
    "print(frametest1)\n",
    "\n",
    "frametest1['ratio'] = frametest1['black'] / frametest1['white']\n",
    "\n",
    "frametest1"
   ]
  },
  {
   "cell_type": "markdown",
   "id": "b7e0dccf-b8af-40a3-a11b-f496025be24e",
   "metadata": {},
   "source": [
    "Columns can also be individually accessed as Series:"
   ]
  },
  {
   "cell_type": "code",
   "execution_count": null,
   "id": "cb2ce35b-2077-4f20-bd2e-0f8659bc85ee",
   "metadata": {},
   "outputs": [],
   "source": [
    "ratioseries = frametest1['ratio']\n",
    "ratioseries"
   ]
  },
  {
   "cell_type": "markdown",
   "id": "fe380e64-367d-456e-b71d-b173b6b5eb22",
   "metadata": {},
   "source": [
    "Note that as long as the corresponding index name doesn't coincide with the name of any Pandas method, you can also access columns by attribute:"
   ]
  },
  {
   "cell_type": "code",
   "execution_count": null,
   "id": "97b46dc7-16e4-41c8-a426-701b63c70294",
   "metadata": {},
   "outputs": [],
   "source": [
    "blackseries = frametest1.black\n",
    "blackseries"
   ]
  },
  {
   "cell_type": "markdown",
   "id": "f38b9ee6-6f23-4ad1-8a82-09cc737d5eb2",
   "metadata": {},
   "source": [
    "Considering mathematical operations, Pandas DataFrames cover a vast variety of matrix operations, many of which are inherited from the NumPy ufunc methods. The big difference is, that Pandas preserves the index and column labels for unary operations and automatically aligns them for binary operations like additions and multiplications. Here are two examples for unary operations:"
   ]
  },
  {
   "cell_type": "code",
   "execution_count": null,
   "id": "8cc97eec-ec7f-4498-922d-05ce4f559cf5",
   "metadata": {},
   "outputs": [],
   "source": [
    "print(frametest1)\n",
    "\n",
    "# unary operations: index and column label preservation!\n",
    "print('\\ntransposed frame: ', frametest1.T)\n",
    "print('\\nexponential: ', np.exp(frametest1))"
   ]
  },
  {
   "cell_type": "markdown",
   "id": "07013189-5d88-4ee3-bc2c-bb27327695d4",
   "metadata": {},
   "source": [
    "For illustrating the automatic label alignment with binary operation, let's introduce a similar dataFrame to our test frame:"
   ]
  },
  {
   "cell_type": "code",
   "execution_count": null,
   "id": "dd630ae0-4ea1-4dab-80fa-2881383bdf95",
   "metadata": {},
   "outputs": [],
   "source": [
    "arraytest1b = np.random.rand(3,2)\n",
    "\n",
    "frametest1b = pd.DataFrame(arraytest1b, columns = ['black', 'red'], index = ['low', 'middle', 'high'])\n",
    "frametest1b['ratio'] = frametest1b.black / frametest1b.red\n",
    "frametest1b"
   ]
  },
  {
   "cell_type": "markdown",
   "id": "6b543c86-e89f-451d-8c92-248522f57b28",
   "metadata": {},
   "source": [
    "If we now try to do some binary calculation with our original frame, we can observe that Pandas takes the one differently labeled column into account:"
   ]
  },
  {
   "cell_type": "code",
   "execution_count": null,
   "id": "50cb3c6c-3edc-40cc-a4b9-2b1cc5695222",
   "metadata": {},
   "outputs": [],
   "source": [
    "frametest1 / frametest1b"
   ]
  },
  {
   "cell_type": "markdown",
   "id": "ce3618ad-7a46-4f8b-9de9-ff1d91810aaa",
   "metadata": {},
   "source": [
    "Here we see, that Pandas has marked the result for the columns that only exist in one of the two frames with not-a-number. This is how missing data is represented by default, as we saw in the NumPy overview."
   ]
  },
  {
   "cell_type": "markdown",
   "id": "6a72039b-70ee-4238-93de-252eed6a445d",
   "metadata": {},
   "source": [
    "NumPy arrays can be concatenated or split. The same is true for Pandas DataFrames but with some more subtleties. The most straight forward way for concatenation of dataFrames is actually very similar to the NumPy syntax:"
   ]
  },
  {
   "cell_type": "code",
   "execution_count": null,
   "id": "102c3e09-7a17-4070-b696-67fdee31c493",
   "metadata": {},
   "outputs": [],
   "source": [
    "combined_frame = pd.concat([frametest1, frametest1b], axis=0)\n",
    "combined_frame"
   ]
  },
  {
   "cell_type": "markdown",
   "id": "800f0ac5-303b-4701-acdb-7388204a96ee",
   "metadata": {},
   "source": [
    "Note that Pandas preserved all the row and column labels -- even if that means duplicating the row indices. A possibility to cirumvent this problem is to introduce another index for the row indices by using hierarchical indices:"
   ]
  },
  {
   "cell_type": "code",
   "execution_count": null,
   "id": "8b54f3e7-8342-45c8-ab89-bb513b210e55",
   "metadata": {},
   "outputs": [],
   "source": [
    "combined_frame2 = pd.concat([frametest1, frametest1b], keys = ['1', '1b'], axis=0)\n",
    "combined_frame2"
   ]
  },
  {
   "cell_type": "markdown",
   "id": "17c921eb-119a-4099-81ca-36f85a728921",
   "metadata": {},
   "source": [
    "Now we have made each value specifically identifiable again. The missing data has again been declared as NaN. If we only want to join the data present in both of the dataFrames, we can do so by:"
   ]
  },
  {
   "cell_type": "code",
   "execution_count": null,
   "id": "4b0be3ee-aa00-4f6f-8c9f-a5d37ffde35a",
   "metadata": {},
   "outputs": [],
   "source": [
    "combined_frame3 = pd.concat([frametest1, frametest1b], axis=0, join='inner')\n",
    "combined_frame3"
   ]
  },
  {
   "cell_type": "markdown",
   "id": "5a26ca7e-da81-4928-b51f-2b582a8e89ee",
   "metadata": {},
   "source": [
    "Maybe you have datasets with complementary information that you need to join. In this case, the Pandas pd.merge() method might be helpful:"
   ]
  },
  {
   "cell_type": "code",
   "execution_count": null,
   "id": "78b16d1d-735d-40e5-a445-d0b321d96084",
   "metadata": {},
   "outputs": [],
   "source": [
    "lectures = pd.DataFrame({'student': ['Sarah', 'Marcus', 'Daniel', 'Emma'], 'lecture': ['Quantum mechanics', 'Optics', 'Cosmology', 'Quantum mechanics']})\n",
    "grades = pd.DataFrame({'student': ['Sarah', 'Marcus', 'Daniel', 'Emma'], 'grades': [1.3, 2.0, 2.7, 2.3]})\n",
    "\n",
    "term1 = pd.merge(lectures, grades)\n",
    "term1"
   ]
  },
  {
   "cell_type": "markdown",
   "id": "a60d0ee1-6552-44e9-9c10-d17bd174fbc1",
   "metadata": {},
   "source": [
    "What happened is that Pandas realized that the \"students\" column was present in both dataFrames. Therefore the merging sorted the information with respect to that column, which can be referred to as the \"key\" column. You can even include data from a frame of a different structure, where only the values of one column correspond to the original frame:"
   ]
  },
  {
   "cell_type": "code",
   "execution_count": null,
   "id": "cf1a2cf7-9c11-4e22-84ba-0ce12d3ca0f2",
   "metadata": {},
   "outputs": [],
   "source": [
    "professors = pd.DataFrame({'lecture': ['Quantum mechanics', 'Cosmology', 'Optics', 'Thermodynamics'], 'professor': ['Feynman', 'Huygens', 'Zwicky', 'Ising']})\n",
    "\n",
    "term2 = pd.merge(term1, professors)\n",
    "term2"
   ]
  },
  {
   "cell_type": "markdown",
   "id": "25be2c44-886f-4609-b78e-3e19b9d7927b",
   "metadata": {},
   "source": [
    "Now, Pandas identified the values in the \"lecture\" columns and added the according information from the \"professor\" column to the original dataFrame. Note, that while the ordering was changes, the labels are still preserved. Also, the value which was only present in one of the dataFrames ('Thermodynamics') has been omitted in the merging by default. \n",
    "\n",
    "The pd.merge() method also allows for directly specifying the key column by using the \"on\" argument. Of course, this only works if the column exists in both of the frames."
   ]
  },
  {
   "cell_type": "code",
   "execution_count": null,
   "id": "091f1e39-6fec-46bc-a84a-4392d0c27076",
   "metadata": {},
   "outputs": [],
   "source": [
    "term1b = pd.merge(lectures, professors, on='lecture')\n",
    "term1b"
   ]
  },
  {
   "cell_type": "markdown",
   "id": "495f6907-4576-4e54-a4ff-94db813bf9a9",
   "metadata": {},
   "source": [
    "Pandas pd.merge() also provides some flexibility in case of different label names by using the left_on and right_on arguments:"
   ]
  },
  {
   "cell_type": "code",
   "execution_count": null,
   "id": "5ba43dfb-4690-4665-8dea-1a14eabc375c",
   "metadata": {},
   "outputs": [],
   "source": [
    "name = pd.DataFrame({'first name': ['Daniel', 'Emma', 'Sarah', 'Marcus'], 'last name': ['Gruber', 'Breitner', 'Neumann', 'Wagner']})\n",
    "term3 = pd.merge(term2, name, left_on='student', right_on='first name')\n",
    "term3"
   ]
  },
  {
   "cell_type": "markdown",
   "id": "cbcd8fad-be22-48c4-be84-52c9cbd26d63",
   "metadata": {},
   "source": [
    "This gives us two columns with redundant information. We can easily drop that column:"
   ]
  },
  {
   "cell_type": "code",
   "execution_count": null,
   "id": "d38bb861-1d37-46c1-9f6d-b17d12eb84f9",
   "metadata": {},
   "outputs": [],
   "source": [
    "term4 = pd.merge(term2, name, left_on='student', right_on='first name').drop('first name', axis=1)\n",
    "term4"
   ]
  },
  {
   "cell_type": "markdown",
   "id": "16a967aa-aab1-4ec0-a821-b0515bc1b7df",
   "metadata": {},
   "source": [
    "### Statistics with Pandas\n",
    "\n",
    "Similar to NumPy, Pandas provides operations on its objects to calculate statisical figures of merit. E.g."
   ]
  },
  {
   "cell_type": "code",
   "execution_count": null,
   "id": "569fbf01-bbdd-46e3-9b32-b7661abe5a7e",
   "metadata": {},
   "outputs": [],
   "source": [
    "print('number of items: ', term4.count())\n",
    "print('\\nmean grade: ', term4['grades'].mean())\n",
    "print('\\nmedian grade: ', term4['grades'].median())\n",
    "print('\\nminimum grade: ', term4['grades'].min())\n",
    "print('\\nmaximum grade: ', term4['grades'].max())\n",
    "print('\\nstandard deviation of grades: ', term4['grades'].std())\n",
    "print('\\nvariance of grades: ', term4['grades'].var())\n",
    "print('\\nproduct of all items: ', term4['grades'].prod())\n",
    "print('\\nsum of all items: ', term4['grades'].sum())"
   ]
  },
  {
   "cell_type": "markdown",
   "id": "383c7ac9-b4f3-46c3-8153-3b252fb5cb79",
   "metadata": {},
   "source": [
    "Of course, there are a lot more functionalities provided by the Pandas library. If you'd like to read up on those, you can simply have a look at the online [Pandas documentation](https://pandas.pydata.org/). \n",
    "\n",
    "In the next part of the introduction, we will look at the possibilities for visualizing data with the MatplotLib libaray."
   ]
  }
 ],
 "metadata": {
  "kernelspec": {
   "display_name": "Python 3 (ipykernel)",
   "language": "python",
   "name": "python3"
  },
  "language_info": {
   "codemirror_mode": {
    "name": "ipython",
    "version": 3
   },
   "file_extension": ".py",
   "mimetype": "text/x-python",
   "name": "python",
   "nbconvert_exporter": "python",
   "pygments_lexer": "ipython3",
   "version": "3.9.18"
  }
 },
 "nbformat": 4,
 "nbformat_minor": 5
}
