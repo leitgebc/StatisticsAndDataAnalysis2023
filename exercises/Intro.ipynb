{
 "cells": [
  {
   "cell_type": "markdown",
   "id": "f086c349-8837-47d1-a497-8a3e19bd5183",
   "metadata": {},
   "source": [
    "# Introduction to Statistics with Python\n",
    "\n",
    "Python is a script based programming language that is by now widely used in the scientific community. There are many libraries that enable statistical data analysis in general as well as packages that are very specific to the respective (scientific) field.\n",
    "\n",
    "In general, a python script can be just set up and directly executed (you don't need to compile it). However, there is also an interactive mode called IPython that can be very useful e.g. for quick tests and debugging. Jupyter notebooks provide an interface to IPython that is very convenient for users, allowing to store the used code directly and to add documentation alongside the script, while still being able to execute the code interactively.\n",
    "\n",
    "In this course, some exercises will be provided in the form of Jupyter notebooks. You will find those exercises in the according folder in the github repository. You should then upload your filled notebooks to the submissions folder. Please remember to add your name and the excercise sheet number in the filename!\n",
    "\n",
    "Note: In this introduction only the most important things will be shown and it is by no means a complete documentation. For more information you should have a look at the [Python Docs](https://docs.python.org/3/) or the documentation of the individual libraries. Furthermore, I can recommend the \"Python Data Science Handbook\" by Jake VanderPlas.\n"
   ]
  },
  {
   "cell_type": "markdown",
   "id": "f878b253-54f2-409e-93d9-191933e401f8",
   "metadata": {},
   "source": [
    "## NumPy\n",
    "\n",
    "Data can be stored and handled in different ways. One of the most common is the form of an array (that of course can have more than one dimension). The NumPy library (short for numerical python) provides an efficient and userfriendly way for storing and operating data. The main difference to a 'list' (which is a type already built into python) is it's better scaling performance when handling larger and larger datasets. However, in contrast to 'list' type objects, it only allows for elements of the same type. If you have installed NumPy in your conda environment, you can simply import it in your code as follows and check the version:"
   ]
  },
  {
   "cell_type": "code",
   "execution_count": 33,
   "id": "5d4d8b33-d465-4125-9fe9-25b38704857a",
   "metadata": {},
   "outputs": [
    {
     "data": {
      "text/plain": [
       "'1.26.0'"
      ]
     },
     "execution_count": 33,
     "metadata": {},
     "output_type": "execute_result"
    }
   ],
   "source": [
    "import numpy\n",
    "\n",
    "numpy.__version__"
   ]
  },
  {
   "cell_type": "markdown",
   "id": "24ce6f3b-398a-489f-9cf7-941674d0fa2b",
   "metadata": {},
   "source": [
    "It is also very common to import NumPy with an alias 'np':"
   ]
  },
  {
   "cell_type": "code",
   "execution_count": 34,
   "id": "cbea4412-4a79-4706-9be7-2f87ac328633",
   "metadata": {},
   "outputs": [],
   "source": [
    "import numpy as np"
   ]
  },
  {
   "cell_type": "markdown",
   "id": "ba25a735-f984-4c37-894b-3eb8734dc01e",
   "metadata": {},
   "source": [
    "### Initializing a NumPy array"
   ]
  },
  {
   "cell_type": "markdown",
   "id": "82a447dd-52e1-4718-aaf8-e1c7e94120e2",
   "metadata": {},
   "source": [
    "A NumPy array can be initialized in many forms. E.g. we can create a NumPy array from a standard python list:"
   ]
  },
  {
   "cell_type": "code",
   "execution_count": 35,
   "id": "0fa2e44f-0ecb-4d3f-86fc-ec7ed88dcce0",
   "metadata": {},
   "outputs": [
    {
     "data": {
      "text/plain": [
       "array([1, 2, 3, 4])"
      ]
     },
     "execution_count": 35,
     "metadata": {},
     "output_type": "execute_result"
    }
   ],
   "source": [
    "np.array([1, 2, 3, 4])"
   ]
  },
  {
   "cell_type": "markdown",
   "id": "41cc1cac-1c83-4232-85e1-69128d40d4b9",
   "metadata": {},
   "source": [
    "Note, as NumPy only allows for same type elements, giving it a list like the following, will result into something slightly different:"
   ]
  },
  {
   "cell_type": "code",
   "execution_count": 36,
   "id": "b1964aae-396b-4f0e-9332-b70fb481bd21",
   "metadata": {},
   "outputs": [
    {
     "data": {
      "text/plain": [
       "array([1.1, 2. , 3. , 4. ])"
      ]
     },
     "execution_count": 36,
     "metadata": {},
     "output_type": "execute_result"
    }
   ],
   "source": [
    "np.array([1.1, 2, 3, 4])"
   ]
  },
  {
   "cell_type": "markdown",
   "id": "5422902c-e503-45bb-94f6-9c1193a15d2f",
   "metadata": {},
   "source": [
    "As you can see, we now instead have an array of floats instead of integers. We can also force the NumPy array to contain a certain element type:"
   ]
  },
  {
   "cell_type": "code",
   "execution_count": 37,
   "id": "a82cb98c-4ab3-407d-a9a1-decd9946e72d",
   "metadata": {},
   "outputs": [
    {
     "data": {
      "text/plain": [
       "array([1., 2., 3., 4.], dtype=float32)"
      ]
     },
     "execution_count": 37,
     "metadata": {},
     "output_type": "execute_result"
    }
   ],
   "source": [
    "np.array([1, 2, 3, 4], dtype='float32')"
   ]
  },
  {
   "cell_type": "markdown",
   "id": "a0af89a7-92fa-4b90-9f45-311d98b31408",
   "metadata": {},
   "source": [
    "A big advantage of NumPy arrays over lists in terms of data operations is of course that it can be multidimensional:"
   ]
  },
  {
   "cell_type": "code",
   "execution_count": 38,
   "id": "4b2f0c61-0997-4019-b1dc-dde0564a92fc",
   "metadata": {},
   "outputs": [
    {
     "data": {
      "text/plain": [
       "array([[1, 2, 3],\n",
       "       [4, 5, 6],\n",
       "       [7, 8, 9]])"
      ]
     },
     "execution_count": 38,
     "metadata": {},
     "output_type": "execute_result"
    }
   ],
   "source": [
    "np.array([[1, 2, 3], [4, 5, 6], [7, 8, 9]])"
   ]
  },
  {
   "cell_type": "markdown",
   "id": "097457e4-7226-4284-9a94-73f745bbf05b",
   "metadata": {},
   "source": [
    "Or, alternatively:"
   ]
  },
  {
   "cell_type": "code",
   "execution_count": 39,
   "id": "76d88f5b-1499-4707-b207-0d7c21840d8e",
   "metadata": {},
   "outputs": [
    {
     "data": {
      "text/plain": [
       "array([[1, 2, 3],\n",
       "       [4, 5, 6],\n",
       "       [7, 8, 9]])"
      ]
     },
     "execution_count": 39,
     "metadata": {},
     "output_type": "execute_result"
    }
   ],
   "source": [
    "np.array([range(i, i+3) for i in [1, 4, 7]])"
   ]
  },
  {
   "cell_type": "markdown",
   "id": "fc8a0cb8-27e4-4f09-9fb4-2542667379dd",
   "metadata": {},
   "source": [
    "Of course for larger datasets it is not very handy to type in lists by hand. There are functionalities to automatically fill an array with zeros ('np.zeros()'), or ones ('np.ones()'), or create an axb matrix filled with a certain element n ('np.full((a,b),n)'). What can be useful sometimes is creating a set of random values:"
   ]
  },
  {
   "cell_type": "code",
   "execution_count": 40,
   "id": "eca6e451-e601-42ac-a34f-789b3ddfc3c2",
   "metadata": {},
   "outputs": [
    {
     "data": {
      "text/plain": [
       "array([[0.65279032, 0.63505887, 0.99529957],\n",
       "       [0.58185033, 0.41436859, 0.4746975 ],\n",
       "       [0.6235101 , 0.33800761, 0.67475232]])"
      ]
     },
     "execution_count": 40,
     "metadata": {},
     "output_type": "execute_result"
    }
   ],
   "source": [
    "np.random.random((3,3))"
   ]
  },
  {
   "cell_type": "markdown",
   "id": "f6eb1aee-ecf8-4f0b-9b13-18f9fc8e5d35",
   "metadata": {},
   "source": [
    "which will give you a 3x3 matrix of random numbers between 0 and 1. Similarly, one can also create such a matrix with random numbers following a normal distribution with mean 0 and standard deviation 1:"
   ]
  },
  {
   "cell_type": "code",
   "execution_count": 41,
   "id": "2f9c3f53-413b-45da-87aa-d05739190853",
   "metadata": {},
   "outputs": [
    {
     "data": {
      "text/plain": [
       "array([[ 1.0657892 , -0.69993739,  0.14407911],\n",
       "       [ 0.3985421 ,  0.02686925,  1.05583713],\n",
       "       [-0.07318342, -0.66572066, -0.04411241]])"
      ]
     },
     "execution_count": 41,
     "metadata": {},
     "output_type": "execute_result"
    }
   ],
   "source": [
    "np.random.normal(0, 1, (3,3))"
   ]
  },
  {
   "cell_type": "markdown",
   "id": "ac3d0403-8563-452b-9a4c-5007c812b082",
   "metadata": {},
   "source": [
    "An identity matrix can be created like this:"
   ]
  },
  {
   "cell_type": "code",
   "execution_count": 42,
   "id": "b4321efe-0029-4884-8344-934eb96e3b31",
   "metadata": {},
   "outputs": [
    {
     "data": {
      "text/plain": [
       "array([[1., 0., 0.],\n",
       "       [0., 1., 0.],\n",
       "       [0., 0., 1.]])"
      ]
     },
     "execution_count": 42,
     "metadata": {},
     "output_type": "execute_result"
    }
   ],
   "source": [
    "np.eye(3)"
   ]
  },
  {
   "cell_type": "markdown",
   "id": "0a9c8bd7-075a-4eba-ab24-bdfc0a7b2af9",
   "metadata": {},
   "source": [
    "However, very often you will be provided some data in the form of a txt or csv file. In this case, NumPy provides the 'genfromtxt' functionality to create an array directly from reading in such a file:"
   ]
  },
  {
   "cell_type": "code",
   "execution_count": 43,
   "id": "2ed742d4-5a3e-42d8-ae83-b539301731fe",
   "metadata": {},
   "outputs": [
    {
     "data": {
      "text/plain": [
       "array([[ 1.,  2.,  3.,  4.],\n",
       "       [ 5.,  6.,  7.,  8.],\n",
       "       [ 9., 10., 11., 12.],\n",
       "       [13., 14., 15., 16.],\n",
       "       [17., 18., 19., 20.]], dtype=float32)"
      ]
     },
     "execution_count": 43,
     "metadata": {},
     "output_type": "execute_result"
    }
   ],
   "source": [
    "np.genfromtxt(\"data/IntroTestfile.csv\", delimiter=\",\", dtype='float32')"
   ]
  },
  {
   "cell_type": "markdown",
   "id": "863c106d-8982-4a51-a68d-e3076d2a4b72",
   "metadata": {},
   "source": [
    "There are a few things one needs to take care of though. For instance, one needs to know whether the dataset provided is 'complete' in the sense if there are some missing values:"
   ]
  },
  {
   "cell_type": "code",
   "execution_count": 44,
   "id": "60ba8846-a077-4443-a804-ef3a0a87fdf0",
   "metadata": {},
   "outputs": [
    {
     "data": {
      "text/plain": [
       "array([[ 1.,  2.,  3.,  4.],\n",
       "       [ 5.,  6.,  7.,  8.],\n",
       "       [ 9., 10., nan, 12.],\n",
       "       [13., 14., 15., 16.],\n",
       "       [17., 18., 19., 20.]], dtype=float32)"
      ]
     },
     "execution_count": 44,
     "metadata": {},
     "output_type": "execute_result"
    }
   ],
   "source": [
    "np.genfromtxt(\"data/IntroTestfile2.csv\", delimiter=\",\", dtype='float32')"
   ]
  },
  {
   "cell_type": "markdown",
   "id": "2b4f24be-a7d2-4da1-871e-2299028433f8",
   "metadata": {},
   "source": [
    "Here, we got a 'nan' (not a number) output because the corresponding element in the file is missing. 'genfromtxt' allows for dealing with these missing elements by defining a default value for them:"
   ]
  },
  {
   "cell_type": "code",
   "execution_count": 45,
   "id": "d257b79f-efd2-4b6d-9aa8-473f6169219a",
   "metadata": {},
   "outputs": [
    {
     "data": {
      "text/plain": [
       "array([[ 1.,  2.,  3.,  4.],\n",
       "       [ 5.,  6.,  7.,  8.],\n",
       "       [ 9., 10., -1., 12.],\n",
       "       [13., 14., 15., 16.],\n",
       "       [17., 18., 19., 20.]], dtype=float32)"
      ]
     },
     "execution_count": 45,
     "metadata": {},
     "output_type": "execute_result"
    }
   ],
   "source": [
    "np.genfromtxt(\"data/IntroTestfile2.csv\", delimiter=\",\", dtype='float32', filling_values=-1.0)"
   ]
  },
  {
   "cell_type": "markdown",
   "id": "1508ded0-eb44-451f-b7b0-e3eb11b1c74b",
   "metadata": {},
   "source": [
    "### Properties of NumPy Arrays"
   ]
  },
  {
   "cell_type": "markdown",
   "id": "1cf11741-ccc7-4acb-9010-9658c85f373e",
   "metadata": {},
   "source": [
    "Working with NumPy arrays, being able to access its properties is often very useful. In this example, we will look at a three-dimensional array using the random number generatore once more. (Specifying the random seed makes sure, the results can be reproduced every time the code is run. 'randint' gives us a set of random integers -- in this case between 0 and 10.)"
   ]
  },
  {
   "cell_type": "code",
   "execution_count": 46,
   "id": "5b89a341-3552-4381-9fa3-75334688e079",
   "metadata": {},
   "outputs": [],
   "source": [
    "np.random.seed(0)\n",
    "\n",
    "a3 = np.random.randint(10, size=(3,4,5))"
   ]
  },
  {
   "cell_type": "markdown",
   "id": "22b8d990-0187-406a-9f1a-7d3c131b158a",
   "metadata": {},
   "source": [
    "We can now ask for the attributes of these arrays, i.e. the number of dimensions ('ndim'), the size of each dimension ('shape'), the total size of the array ('size'), the data type ('dtype'), the memory size for each element ('itemsize') and the total memory size of the array ('nbytes'):"
   ]
  },
  {
   "cell_type": "code",
   "execution_count": 47,
   "id": "dedcd0c7-d614-4dea-a832-8605e015769b",
   "metadata": {},
   "outputs": [
    {
     "name": "stdout",
     "output_type": "stream",
     "text": [
      "a3 ndim:  3\n",
      "a3 shape:  (3, 4, 5)\n",
      "a3 size:  60\n",
      "a3 dtype:  int64\n",
      "a3 itemsize:  8\n",
      "a3 nbytes:  480\n"
     ]
    }
   ],
   "source": [
    "print(\"a3 ndim: \", a3.ndim)\n",
    "print(\"a3 shape: \", a3.shape)\n",
    "print(\"a3 size: \", a3.size)\n",
    "print(\"a3 dtype: \", a3.dtype)\n",
    "print(\"a3 itemsize: \", a3.itemsize)\n",
    "print(\"a3 nbytes: \", a3.nbytes)"
   ]
  },
  {
   "cell_type": "markdown",
   "id": "a87a9fcd-68c7-42e3-8ad8-4fea869ef2cf",
   "metadata": {},
   "source": [
    "Another important aspect of handling NumPy arrays is to be able to access and set individual elements by index. Let's start with a one-dimensional array:"
   ]
  },
  {
   "cell_type": "code",
   "execution_count": 48,
   "id": "de01190a-8ffe-40bb-ab18-acd3f37627cc",
   "metadata": {},
   "outputs": [],
   "source": [
    "a1 = np.random.randint(10, size=6)"
   ]
  },
  {
   "cell_type": "markdown",
   "id": "4443513c-050a-4fe2-bdb1-a2a263e47a9d",
   "metadata": {},
   "source": [
    "In one dimension, accessing a specific element is quite straight forward -- you can just use the index of the element you want to access in square brackets:"
   ]
  },
  {
   "cell_type": "code",
   "execution_count": 49,
   "id": "53f01294-02a1-40d1-a91b-a0a237841502",
   "metadata": {},
   "outputs": [
    {
     "name": "stdout",
     "output_type": "stream",
     "text": [
      "[8 1 1 7 9 9]\n",
      "3rd element:  1\n"
     ]
    }
   ],
   "source": [
    "print(a1)\n",
    "print(\"3rd element: \", a1[2])"
   ]
  },
  {
   "cell_type": "markdown",
   "id": "5636db71-702d-4e29-9fac-fd866b50e76f",
   "metadata": {},
   "source": [
    "Please note that the counting (as usual in programming) starts at '0'. Alternatively, you can also start counting from the end and use negative indices:"
   ]
  },
  {
   "cell_type": "code",
   "execution_count": 50,
   "id": "f009fd11-3810-4196-aabd-62aca7bd7a9f",
   "metadata": {},
   "outputs": [
    {
     "name": "stdout",
     "output_type": "stream",
     "text": [
      "[8 1 1 7 9 9]\n",
      "last element:  9\n"
     ]
    }
   ],
   "source": [
    "print(a1)\n",
    "print(\"last element: \", a1[-1])"
   ]
  },
  {
   "cell_type": "markdown",
   "id": "3f4a1964-8fa8-4964-9b23-cb535dbfce28",
   "metadata": {},
   "source": [
    "Looking at a two-dimensional array, individual elements can be accessed by a comma separated tuple of indices:"
   ]
  },
  {
   "cell_type": "code",
   "execution_count": 51,
   "id": "ea12a9b3-f52c-4da8-a27a-8f2874538cd3",
   "metadata": {},
   "outputs": [
    {
     "name": "stdout",
     "output_type": "stream",
     "text": [
      "[[3 6 7 2]\n",
      " [0 3 5 9]\n",
      " [4 4 6 4]]\n",
      "first element in the second row:  0\n"
     ]
    }
   ],
   "source": [
    "a2 = np.random.randint(10, size=(3,4))\n",
    "print(a2)\n",
    "print(\"first element in the second row: \", a2[1,0])"
   ]
  },
  {
   "cell_type": "markdown",
   "id": "4ea5ed36-9e60-49a1-86d2-a5faafcac1af",
   "metadata": {},
   "source": [
    "Using the same notation, individual elements can also be modified:"
   ]
  },
  {
   "cell_type": "code",
   "execution_count": 52,
   "id": "9d0c7957-bc11-4bd1-aec3-07b496631152",
   "metadata": {},
   "outputs": [
    {
     "name": "stdout",
     "output_type": "stream",
     "text": [
      "[[  3   6   7   2]\n",
      " [100   3   5   9]\n",
      " [  4   4   6   4]]\n"
     ]
    }
   ],
   "source": [
    "a2[1,0] = 100\n",
    "print(a2)"
   ]
  },
  {
   "cell_type": "markdown",
   "id": "f9514ae0-2794-4708-9765-692540cce3d8",
   "metadata": {},
   "source": [
    "Instead of accessing only indivdual elements on can also work with slices of arrays:"
   ]
  },
  {
   "cell_type": "code",
   "execution_count": 53,
   "id": "ebac0ac7-991f-4e2e-84e3-ee7ceaf2e634",
   "metadata": {},
   "outputs": [
    {
     "name": "stdout",
     "output_type": "stream",
     "text": [
      "[8 1 1 7 9 9]\n",
      "first five elements:  [8 1 1 7 9]\n",
      "all elements after the fifth:  [9]\n",
      "elements between the second and the fourth:  [1 1 7]\n",
      "every second element, starting from index 1:  [1 7 9]\n",
      "reversing the array:  [9 9 7 1 1 8]\n"
     ]
    }
   ],
   "source": [
    "print(a1)\n",
    "print(\"first five elements: \", a1[:5])\n",
    "print(\"all elements after the fifth: \", a1[5:])\n",
    "print(\"elements between the second and the fourth: \", a1[1:4])\n",
    "print(\"every second element, starting from index 1: \", a1[1::2])\n",
    "print(\"reversing the array: \", a1[::-1])"
   ]
  },
  {
   "cell_type": "markdown",
   "id": "2c7bf80a-d1d1-45ed-b349-6d4cc2d253e4",
   "metadata": {},
   "source": [
    "In case of more than one dimension, one has to consider indices for all dimensions separated by commata, as before:"
   ]
  },
  {
   "cell_type": "code",
   "execution_count": 54,
   "id": "b0809006-24aa-43ac-9995-667d1ce5ddea",
   "metadata": {},
   "outputs": [
    {
     "name": "stdout",
     "output_type": "stream",
     "text": [
      "[[  3   6   7   2]\n",
      " [100   3   5   9]\n",
      " [  4   4   6   4]]\n",
      "first two rows, first three columns:  [[  3   6   7]\n",
      " [100   3   5]]\n",
      "all rows, every second column:  [[  3   7]\n",
      " [100   5]\n",
      " [  4   6]]\n",
      "first column:  [  3 100   4]\n",
      "first row:  [3 6 7 2]\n",
      "reversing the array:  [[  4   6   4   4]\n",
      " [  9   5   3 100]\n",
      " [  2   7   6   3]]\n"
     ]
    }
   ],
   "source": [
    "print(a2)\n",
    "print(\"first two rows, first three columns: \", a2[:2, :3])\n",
    "print(\"all rows, every second column: \", a2[:3, ::2])\n",
    "print(\"first column: \", a2[:,0])\n",
    "print(\"first row: \", a2[0,:])\n",
    "print(\"reversing the array: \", a2[::-1, ::-1])"
   ]
  },
  {
   "cell_type": "markdown",
   "id": "531f06a5-d007-442a-8710-0e44742d38b2",
   "metadata": {},
   "source": [
    "One important thing to keep in mind is that extracting slices from arrays doesn't provide you with an independent copy of the original array's slice but rather returns a view of it. This means that changing the slice will also change the corresponding part of the original array! If you want a copy instead of a view, you can achieve this by using the 'copy()' method:"
   ]
  },
  {
   "cell_type": "code",
   "execution_count": 55,
   "id": "5af3bd04-bb6b-4f66-bd1d-c9c4075d0bf1",
   "metadata": {},
   "outputs": [
    {
     "name": "stdout",
     "output_type": "stream",
     "text": [
      "[[  3   6]\n",
      " [100   3]]\n"
     ]
    }
   ],
   "source": [
    "new_a2_slice = a2[:2,:2].copy()\n",
    "print(new_a2_slice)"
   ]
  },
  {
   "cell_type": "markdown",
   "id": "ab6cc395-68d3-4281-9053-6f8111039189",
   "metadata": {},
   "source": [
    "Modifying 'new_a2_slice' now won't have an effect on the original 'a2' array. (Bonus task: Try it out!)"
   ]
  },
  {
   "cell_type": "markdown",
   "id": "a05e0eba-da2a-421b-a91f-d5e15fd44193",
   "metadata": {},
   "source": [
    "A rather useful functionality is the so-called masking, with which only specific elements of the array can be selected. E.g. if we only want to display entries that satisfy a certain requirement like being smaller than 7:"
   ]
  },
  {
   "cell_type": "code",
   "execution_count": 56,
   "id": "d1097e31-5760-4639-9dbb-5589a774d30e",
   "metadata": {},
   "outputs": [
    {
     "name": "stdout",
     "output_type": "stream",
     "text": [
      "[[  3   6   7   2]\n",
      " [100   3   5   9]\n",
      " [  4   4   6   4]]\n",
      "\n",
      " [3 6 2 3 5 4 4 6 4]\n"
     ]
    }
   ],
   "source": [
    "print(a2)\n",
    "\n",
    "print(\"\\n\", a2[(a2<7)])"
   ]
  },
  {
   "cell_type": "markdown",
   "id": "fadfdcb2-21f8-4e98-998b-5c8b36f33eb0",
   "metadata": {},
   "source": [
    "### Standard operations on one or more NumPy Arrays"
   ]
  },
  {
   "cell_type": "markdown",
   "id": "0333c783-fc63-4f0d-9a3c-9863f76e3a9b",
   "metadata": {},
   "source": [
    "Arrays can be put together (concatenated) or one array split into multiple arrays:"
   ]
  },
  {
   "cell_type": "code",
   "execution_count": 57,
   "id": "e06190e9-d721-4138-9c79-93bc26dc6049",
   "metadata": {},
   "outputs": [
    {
     "name": "stdout",
     "output_type": "stream",
     "text": [
      "[1 2 3] [4 5 6]\n",
      "[1 2 3 4 5 6]\n",
      "[1 2] [3 4] [5 6]\n"
     ]
    }
   ],
   "source": [
    "x = np.array([1,2,3])\n",
    "y = np.array([4,5,6])\n",
    "print(x, y)\n",
    "\n",
    "z = np.concatenate([x,y])\n",
    "print(z)\n",
    "\n",
    "z1, z2, z3 = np.split(z, [2, 4])\n",
    "print(z1, z2, z3)"
   ]
  },
  {
   "cell_type": "markdown",
   "id": "87d1e1bf-9d3b-4c11-9231-ee4397d6e729",
   "metadata": {},
   "source": [
    "For concatenations with multi-dimensional arrays, an axis can be specified:"
   ]
  },
  {
   "cell_type": "code",
   "execution_count": 58,
   "id": "a29b842f-05cb-48c5-92b7-b49bb6367336",
   "metadata": {},
   "outputs": [
    {
     "name": "stdout",
     "output_type": "stream",
     "text": [
      "joining rows:\n",
      "[[  3   6   7   2]\n",
      " [100   3   5   9]\n",
      " [  4   4   6   4]\n",
      " [  3   6   7   2]\n",
      " [100   3   5   9]\n",
      " [  4   4   6   4]]\n",
      "\n",
      "joining columns:\n",
      "[[  3   6   7   2   3   6   7   2]\n",
      " [100   3   5   9 100   3   5   9]\n",
      " [  4   4   6   4   4   4   6   4]]\n"
     ]
    }
   ],
   "source": [
    "print(\"joining rows:\")\n",
    "print(np.concatenate([a2, a2], axis=0))\n",
    "print(\"\\njoining columns:\")\n",
    "print(np.concatenate([a2, a2], axis=1))"
   ]
  },
  {
   "cell_type": "markdown",
   "id": "a080c613-84b1-481f-933b-674ac25a2b0b",
   "metadata": {},
   "source": [
    "Splitting also works in more than one dimension but has dedicated functions for it:"
   ]
  },
  {
   "cell_type": "code",
   "execution_count": 59,
   "id": "a5e8501f-5033-4ef0-a986-0e8189d731e2",
   "metadata": {},
   "outputs": [
    {
     "name": "stdout",
     "output_type": "stream",
     "text": [
      "[[  3   6   7   2]\n",
      " [100   3   5   9]\n",
      " [  4   4   6   4]]\n",
      "[[  3   6   7   2]\n",
      " [100   3   5   9]]\n",
      "[[4 4 6 4]]\n"
     ]
    }
   ],
   "source": [
    "print(a2)\n",
    "upper, lower = np.vsplit(a2, [2])\n",
    "print(upper)\n",
    "print(lower)"
   ]
  },
  {
   "cell_type": "code",
   "execution_count": 60,
   "id": "924944db-c7e9-4809-bf3c-0b0da4231650",
   "metadata": {},
   "outputs": [
    {
     "name": "stdout",
     "output_type": "stream",
     "text": [
      "[[  3   6]\n",
      " [100   3]\n",
      " [  4   4]]\n",
      "[[7 2]\n",
      " [5 9]\n",
      " [6 4]]\n"
     ]
    }
   ],
   "source": [
    "left, right = np.hsplit(a2, [2])\n",
    "print(left)\n",
    "print(right)"
   ]
  },
  {
   "cell_type": "markdown",
   "id": "3a0ddc17-021d-4a1b-87f4-422d2e255205",
   "metadata": {},
   "source": [
    "Besides concatenating and splitting arrays, also mathematical operations can be performed on them. These built-in operations are often very useful as they avoid inefficient loops over the whole array.These 'ufuncs' (universal functions) provide vectorized operations, i.e. the operation will be carried out on each element. In general, there are unary ufuncs, which only operate on a single input array, and binary ufuncs, which take two inputs."
   ]
  },
  {
   "cell_type": "markdown",
   "id": "01f49161-a18a-491f-abac-932ac17cb180",
   "metadata": {},
   "source": [
    "Unary ufuncs are for example:"
   ]
  },
  {
   "cell_type": "code",
   "execution_count": 61,
   "id": "7cec7c8f-1ab8-4ed3-9edc-ca6785d3276c",
   "metadata": {},
   "outputs": [
    {
     "name": "stdout",
     "output_type": "stream",
     "text": [
      "[8 1 1 7 9 9] \n",
      "\n",
      "adding 5 to all elements:  [13  6  6 12 14 14]\n",
      "alternative:  [13  6  6 12 14 14] \n",
      "\n",
      "subtracting 3 from all elements:  [ 5 -2 -2  4  6  6]\n",
      "alternative:  [ 5 -2 -2  4  6  6] \n",
      "\n",
      "multiplying 4 to all elements:  [32  4  4 28 36 36]\n",
      "alternative:  [32  4  4 28 36 36] \n",
      "\n",
      "dividing all elements by 2:  [4.  0.5 0.5 3.5 4.5 4.5]\n",
      "alternative:  [4.  0.5 0.5 3.5 4.5 4.5] \n",
      "\n",
      "dividing all elements by 2 and only keep floor number:  [4 0 0 3 4 4]\n",
      "alternative:  [4 0 0 3 4 4] \n",
      "\n",
      "square each element:  [64  1  1 49 81 81]\n",
      "alternative:  [64  1  1 49 81 81] \n",
      "\n",
      "take modulus of each element:  [0 1 1 1 1 1]\n",
      "alternative:  [0 1 1 1 1 1] \n",
      "\n",
      "absolute value of each element:  [8 1 1 7 9 9]\n",
      "alternative:  [8 1 1 7 9 9] \n",
      "\n",
      "sinus of each element:  [0.98935825 0.84147098 0.84147098 0.6569866  0.41211849 0.41211849] \n",
      "\n",
      "exponential:  [2.98095799e+03 2.71828183e+00 2.71828183e+00 1.09663316e+03\n",
      " 8.10308393e+03 8.10308393e+03] \n",
      "\n",
      "logarithm:  [2.07944154 0.         0.         1.94591015 2.19722458 2.19722458] \n",
      "\n"
     ]
    }
   ],
   "source": [
    "print(a1, \"\\n\")\n",
    "\n",
    "print(\"adding 5 to all elements: \", a1+5)\n",
    "print(\"alternative: \", np.add(a1, 5), \"\\n\")\n",
    "\n",
    "print(\"subtracting 3 from all elements: \", a1-3)\n",
    "print(\"alternative: \", np.subtract(a1, 3), \"\\n\")\n",
    "\n",
    "print(\"multiplying 4 to all elements: \", a1*4)\n",
    "print(\"alternative: \", np.multiply(a1,4), \"\\n\")\n",
    "\n",
    "print(\"dividing all elements by 2: \", a1/2)\n",
    "print(\"alternative: \", np.divide(a1,2), \"\\n\")\n",
    "\n",
    "print(\"dividing all elements by 2 and only keep floor number: \", a1//2)\n",
    "print(\"alternative: \", np.floor_divide(a1,2), \"\\n\")\n",
    "\n",
    "print(\"square each element: \", a1**2)\n",
    "print(\"alternative: \", np.power(a1,2), \"\\n\")\n",
    "\n",
    "print(\"take modulus of each element: \", a1%2)\n",
    "print(\"alternative: \", np.mod(a1,2), \"\\n\")\n",
    "\n",
    "print(\"absolute value of each element: \", abs(a1))\n",
    "print(\"alternative: \", np.absolute(a1), \"\\n\")\n",
    "\n",
    "print(\"sinus of each element: \", np.sin(a1), \"\\n\")\n",
    "print(\"exponential: \", np.exp(a1), \"\\n\")\n",
    "print(\"logarithm: \", np.log(a1), \"\\n\")"
   ]
  },
  {
   "cell_type": "markdown",
   "id": "499c6bd8-7d11-4e04-b5de-19a9767c6cac",
   "metadata": {},
   "source": [
    "These functions all perform the same operation on the individual elements while the form of the array doesn't change. But there are also possibilities to aggregate the elements by e.g. calling the 'reduce()' function. This will apply an operation on the elements repeatedly until only one single result is obtained. For instance, the 'add' function can be 'reduced' to sum up all the elements of the array:"
   ]
  },
  {
   "cell_type": "code",
   "execution_count": 62,
   "id": "e121e731-dec6-4241-9ac9-5ef2aa8f364d",
   "metadata": {},
   "outputs": [
    {
     "name": "stdout",
     "output_type": "stream",
     "text": [
      "[8 1 1 7 9 9] \n",
      "\n",
      "35\n"
     ]
    }
   ],
   "source": [
    "print(a1, \"\\n\")\n",
    "print(np.add.reduce(a1))"
   ]
  },
  {
   "cell_type": "markdown",
   "id": "7edb5016-bb74-4a4e-b861-95108ab1dabd",
   "metadata": {},
   "source": [
    "There are a lot more ufuncs that can come in handy depending on the usecase. If you need any specific operation it is therefore always a good idea to look up the documentation on ufuncs on the [NumPy webpage](https://numpy.org/doc/stable/user/basics.ufuncs.html). This also contains e.g. dealing with operations performed on arrays with different shapes and sizes ('broadcasting')."
   ]
  },
  {
   "cell_type": "markdown",
   "id": "4ac061d0-8d83-4fd0-916e-fd781321a98f",
   "metadata": {},
   "source": [
    "### Statistics with NumPy arrays"
   ]
  },
  {
   "cell_type": "markdown",
   "id": "12303b8a-7234-4d58-9c57-0b458b05a2ff",
   "metadata": {},
   "source": [
    "Now that we have covered the basics, it is time to look what NumPy arrays can do for us when we deal with statistical data analysis. In principle, with the ufuncs we've just seen, you should be able to implement functions to calculate quantities like the mean and the standard deviation yourself. However, as this very often involves inefficient and time-intensive for-loops, such methods have already been conveniently provided by the NumPy library. \n",
    "\n",
    "You can, for example, easily determine the minimum or the maximum element or the sum of all elements:"
   ]
  },
  {
   "cell_type": "code",
   "execution_count": 63,
   "id": "8f6beaf8-d999-41c7-b744-26846f8803a0",
   "metadata": {},
   "outputs": [
    {
     "name": "stdout",
     "output_type": "stream",
     "text": [
      "minimum:  2\n",
      "maximum:  100\n",
      "sum:  153\n",
      "\n",
      "alternatively:\n",
      "minimum:  2\n",
      "maximum:  100\n",
      "sum:  153\n"
     ]
    }
   ],
   "source": [
    "print(\"minimum: \", np.min(a2))\n",
    "print(\"maximum: \", np.max(a2))\n",
    "print(\"sum: \", np.sum(a2))\n",
    "print(\"\\nalternatively:\")\n",
    "print(\"minimum: \", a2.min())\n",
    "print(\"maximum: \", a2.max())\n",
    "print(\"sum: \", a2.sum())"
   ]
  },
  {
   "cell_type": "markdown",
   "id": "aab9aa94-97c2-44fb-8235-f306941a985c",
   "metadata": {},
   "source": [
    "Again, looking at multidimensional arrays, these operations can also be carried out for each row or column, just by specifying an 'axis' argument:"
   ]
  },
  {
   "cell_type": "code",
   "execution_count": 64,
   "id": "8879596a-3ded-42eb-a73d-af4607700757",
   "metadata": {},
   "outputs": [
    {
     "name": "stdout",
     "output_type": "stream",
     "text": [
      "[[  3   6   7   2]\n",
      " [100   3   5   9]\n",
      " [  4   4   6   4]]\n",
      "minimum per column:  [3 3 5 2]\n",
      "minimum per row:  [2 3 4]\n"
     ]
    }
   ],
   "source": [
    "print(a2)\n",
    "print(\"minimum per column: \", np.min(a2, axis=0))\n",
    "print(\"minimum per row: \", np.min(a2, axis=1))"
   ]
  },
  {
   "cell_type": "markdown",
   "id": "63b50915-12d1-46be-adfa-34ff0e8fb57d",
   "metadata": {},
   "source": [
    "More interesting statistics functions that are available within NumPy include:"
   ]
  },
  {
   "cell_type": "code",
   "execution_count": 65,
   "id": "4ee7bbe3-9eb3-46fc-93e3-5a8dc5312cbd",
   "metadata": {},
   "outputs": [
    {
     "name": "stdout",
     "output_type": "stream",
     "text": [
      "[8 1 1 7 9 9] \n",
      "\n",
      "product of elements:  4536\n",
      "mean of elements:  5.833333333333333\n",
      "standard deviation of elements:  3.4840908267278117\n",
      "variance of elements:  12.138888888888888\n",
      "median:  7.5\n",
      "25th percentile:  2.5\n"
     ]
    }
   ],
   "source": [
    "print(a1, \"\\n\")\n",
    "print(\"product of elements: \", np.prod(a1))\n",
    "print(\"mean of elements: \", np.mean(a1))\n",
    "print(\"standard deviation of elements: \", np.std(a1))\n",
    "print(\"variance of elements: \", np.var(a1))\n",
    "print(\"median: \", np.median(a1))\n",
    "print(\"25th percentile: \", np.percentile(a1, 25))"
   ]
  },
  {
   "cell_type": "markdown",
   "id": "49064fdc-2777-4662-9c63-21089a91b89f",
   "metadata": {},
   "source": [
    "It is worth mentioning, as there can be all sorts of artifacts in a dataset, that for each of these statistical functions exists a 'nan-proof' version. The names of the functions are the same, just with 'nan' in the beginning. \n",
    "\n",
    "Concerning statistical properties of more than one array, there are also built-in functions. Using again the dummy data of IntroTestfile.csv:"
   ]
  },
  {
   "cell_type": "code",
   "execution_count": 66,
   "id": "2e11fcaa-9322-4e72-bad2-ba1f0f692c75",
   "metadata": {},
   "outputs": [
    {
     "data": {
      "text/plain": [
       "array([[ 1.,  2.,  3.,  4.],\n",
       "       [ 5.,  6.,  7.,  8.],\n",
       "       [ 9., 10., 11., 12.],\n",
       "       [13., 14., 15., 16.],\n",
       "       [17., 18., 19., 20.]], dtype=float32)"
      ]
     },
     "execution_count": 66,
     "metadata": {},
     "output_type": "execute_result"
    }
   ],
   "source": [
    "file = np.genfromtxt(\"data/IntroTestfile.csv\", delimiter=\",\", dtype='float32')\n",
    "file"
   ]
  },
  {
   "cell_type": "markdown",
   "id": "80b6cb83-6cf0-4493-b898-48a82bfa71f2",
   "metadata": {},
   "source": [
    "We can now ask, if the numbers in column 1 change, how do the numbers in colum 2 change relative to that? This can be answered by the covariance between the two columns and their correlation coefficients, respectively:"
   ]
  },
  {
   "cell_type": "code",
   "execution_count": 67,
   "id": "a8533836-52de-4a6b-b974-4e9d34148d04",
   "metadata": {},
   "outputs": [
    {
     "name": "stdout",
     "output_type": "stream",
     "text": [
      "[ 1.  5.  9. 13. 17.]\n",
      "[ 2.  6. 10. 14. 18.]\n",
      "\n",
      " [[40. 40.]\n",
      " [40. 40.]]\n",
      "[[1. 1.]\n",
      " [1. 1.]]\n"
     ]
    }
   ],
   "source": [
    "col1 = file[:,0].copy()\n",
    "col2 = file[:,1].copy()\n",
    "print(col1)\n",
    "print(col2)\n",
    "\n",
    "print(\"\\n\", np.cov(col1, col2))\n",
    "print(np.corrcoef(col1, col2))"
   ]
  },
  {
   "cell_type": "markdown",
   "id": "4689b43f-594e-41ff-b085-71a9a7e6a7a3",
   "metadata": {},
   "source": [
    "As can be expected, those two columns are 100\\% correlated as one of them is the other +1."
   ]
  },
  {
   "cell_type": "markdown",
   "id": "57db6993-995d-40d7-aebf-e30169941562",
   "metadata": {},
   "source": [
    "As with the standard ufuncs, this list is by no means complete. You can inform yourself in more detail on the [NumPy user manual](https://numpy.org/doc/stable/reference/routines.statistics.html) in the section of statistical methods."
   ]
  },
  {
   "cell_type": "markdown",
   "id": "76af489f-0c88-4eab-ae6d-8e8b28e512ff",
   "metadata": {},
   "source": [
    "Very often when we look at specific datasets, we have the case of different kinds of data being stored, which translate to different kinds of 'dtypes' in python. This is not ideal with NumPy, as an array only can take elements from one dtype, as mentioned in the beginning. In the form of structured arrays, there indeed exists a solution to that within NumPy. However, in every-day life using Pandas dataframes is much more convenient. This will be discussed in the next notebook."
   ]
  }
 ],
 "metadata": {
  "kernelspec": {
   "display_name": "Python 3 (ipykernel)",
   "language": "python",
   "name": "python3"
  },
  "language_info": {
   "codemirror_mode": {
    "name": "ipython",
    "version": 3
   },
   "file_extension": ".py",
   "mimetype": "text/x-python",
   "name": "python",
   "nbconvert_exporter": "python",
   "pygments_lexer": "ipython3",
   "version": "3.9.18"
  }
 },
 "nbformat": 4,
 "nbformat_minor": 5
}
