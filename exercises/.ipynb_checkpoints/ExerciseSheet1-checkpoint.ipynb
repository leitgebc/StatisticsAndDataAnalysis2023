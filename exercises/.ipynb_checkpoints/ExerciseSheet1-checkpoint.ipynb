{
 "cells": [
  {
   "cell_type": "markdown",
   "id": "6ac1e8d6-b119-43c1-beb8-bfaa7edd5191",
   "metadata": {},
   "source": [
    "# Exercise Sheet 1\n",
    "\n",
    "## Exercise 1: Characterization of Data\n",
    "\n",
    "A botanist is studying flower specimen and measures the length and the width of the sepals and petals of a sample of seven specimen. The data she obtained is listed (in the order of the specimen) as following:\n",
    "\n",
    "- sepal length [cm]: $[5.1,\\, 4.9,\\, 4.7,\\, 4.6,\\, 5.0,\\, 5.4,\\, 4.6]$\n",
    "- sepal width [cm]: $[3.5,\\, 3.0,\\, 3.2,\\, 3.1,\\, 3.6,\\, 3.9,\\, 3.4]$\n",
    "- petal length [cm]: $[1.4,\\, 1.4,\\, 1.3,\\, 1.5,\\, 1.4,\\, 1.7,\\, 1.4]$\n",
    "- petal width [cm]: $[0.2,\\, 0.2,\\, 0.2,\\, 0.2,\\, 0.2,\\, 0.4,\\, 0.3]$\n",
    "\n",
    "<ol style=\"list-style-type: lower-alpha\">\n",
    "  <li>Determine the median, arithmetic mean, the variance and the standard deviation for all four flower properties.</li>\n",
    "  <li>Determine the covariance matrix and the correlation coefficient matrix for the given data.</li>\n",
    "</ol>\n",
    "\n",
    "Note: This exercise is expected to be done \"by hand\", indicating all the formulae and calculation steps you used. You can upload a pdf or a photograph of your solution to the submission directory. Don't forget to add your name and the number of the exercise sheet (and exercise number) to the file name!\n",
    "\n",
    "\n",
    "## Exercise 2: Binned Data (Jupyter Notebook)\n",
    "\n",
    "Following up on the previous result, the botanist decides to conduct a larger survey of flower shapes and measures the aforementioned properties of 50 specimen.\n",
    "\n",
    "<ol style=\"list-style-type: lower-alpha\">\n",
    "  <li>Read in the data sample given in the GitHub repository (exercises/data/flowershapes.csv) into an array in a Jupyter notebook.</li>\n",
    "  <li>Determine the mean, variance, standard deviation and median for the flower properties on the larger sample using NumPy arrays. What do you observe with respect to the results of the smaller survey?</li>\n",
    "  <li>Determine the covariances and correlation coefficients using NumPy arrays.</li>\n",
    "  <li>For practical reasons the data now can be better visualized as histograms. Draw histograms for four flower properties with matplotlib. Choose a reasonable binning.</li>\n",
    "  <li>Indicate the mean, the median and the standard deviation in each histogram.</li>"
   ]
  },
  {
   "cell_type": "code",
   "execution_count": null,
   "id": "dcb6c8dd-7034-4263-91d6-dbe228d03758",
   "metadata": {},
   "outputs": [],
   "source": []
  }
 ],
 "metadata": {
  "kernelspec": {
   "display_name": "Python 3 (ipykernel)",
   "language": "python",
   "name": "python3"
  },
  "language_info": {
   "codemirror_mode": {
    "name": "ipython",
    "version": 3
   },
   "file_extension": ".py",
   "mimetype": "text/x-python",
   "name": "python",
   "nbconvert_exporter": "python",
   "pygments_lexer": "ipython3",
   "version": "3.9.18"
  }
 },
 "nbformat": 4,
 "nbformat_minor": 5
}
