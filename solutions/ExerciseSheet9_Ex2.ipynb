{
 "cells": [
  {
   "cell_type": "code",
   "execution_count": 10,
   "id": "d1e05604-126a-43bb-a0a6-40e2fa480189",
   "metadata": {},
   "outputs": [],
   "source": [
    "import numpy as np\n",
    "import matplotlib as mpl\n",
    "import matplotlib.pyplot as plt\n",
    "import math\n",
    "import scipy as scp"
   ]
  },
  {
   "cell_type": "code",
   "execution_count": 2,
   "id": "368e7b75-6167-48fb-816c-81fc78647020",
   "metadata": {},
   "outputs": [],
   "source": [
    "n_obs = 5\n",
    "b_exp = 1.8"
   ]
  },
  {
   "cell_type": "code",
   "execution_count": 26,
   "id": "14ec9459-b434-4484-8e9d-40942b9504bf",
   "metadata": {},
   "outputs": [],
   "source": [
    "# direct formula implementation\n",
    "def pval_bkg_only(n_obs, b_exp):\n",
    "    p = 0.0\n",
    "    for i in range(0, n_obs):\n",
    "        p += ((b_exp**i)/((math.factorial(i)))*math.exp(-b_exp))\n",
    "    return 1-p"
   ]
  },
  {
   "cell_type": "code",
   "execution_count": 27,
   "id": "1e483122-5c04-4cb5-9edf-aeeed6db8e6b",
   "metadata": {},
   "outputs": [
    {
     "data": {
      "text/plain": [
       "0.03640666100108336"
      ]
     },
     "execution_count": 27,
     "metadata": {},
     "output_type": "execute_result"
    }
   ],
   "source": [
    "pval_bkg_only(n_obs, b_exp)"
   ]
  },
  {
   "cell_type": "code",
   "execution_count": 28,
   "id": "4e00770c-7951-4360-b52f-a6472899a8df",
   "metadata": {},
   "outputs": [
    {
     "data": {
      "text/plain": [
       "0.036406661001083473"
      ]
     },
     "execution_count": 28,
     "metadata": {},
     "output_type": "execute_result"
    }
   ],
   "source": [
    "# scipy short-cut\n",
    "1-scp.stats.poisson.cdf(4,1.8)"
   ]
  },
  {
   "cell_type": "code",
   "execution_count": 30,
   "id": "92fd136f-79fc-4f3b-b111-a8bfbf89e424",
   "metadata": {},
   "outputs": [
    {
     "data": {
      "text/plain": [
       "0.0030000000000000027"
      ]
     },
     "execution_count": 30,
     "metadata": {},
     "output_type": "execute_result"
    }
   ],
   "source": [
    "# 3-sigma\n",
    "p3s = 1-0.997\n",
    "p3s"
   ]
  },
  {
   "cell_type": "markdown",
   "id": "ad084e76-57f1-40a3-b19b-547e4a13e351",
   "metadata": {},
   "source": [
    "The p-value is larger than the 3 sigma value. This means the excess is not significant."
   ]
  },
  {
   "cell_type": "code",
   "execution_count": 31,
   "id": "2e5fe1d1-ae7d-44d7-b17d-569744076272",
   "metadata": {},
   "outputs": [],
   "source": [
    "def pval_sig_plus_bkg(n_obs, b_exp, s_exp):\n",
    "    p = 0.0\n",
    "    for i in range(0,n_obs+1):\n",
    "        p += ((b_exp+s_exp)**i)/(math.factorial(i))*math.exp(-(b_exp+s_exp))\n",
    "    return p"
   ]
  },
  {
   "cell_type": "code",
   "execution_count": 38,
   "id": "c973299e-6d77-47eb-a1a3-7a6b9794eac4",
   "metadata": {},
   "outputs": [
    {
     "name": "stdout",
     "output_type": "stream",
     "text": [
      "expected s:  0.0 \t p-val:  0.9896219631338404\n",
      "expected s:  1.0 \t p-val:  0.934889686635759\n",
      "expected s:  2.0 \t p-val:  0.8155562560569335\n",
      "expected s:  3.0 \t p-val:  0.6510064372694917\n",
      "expected s:  4.0 \t p-val:  0.47831468715817593\n",
      "expected s:  5.0 \t p-val:  0.3269771300718833\n",
      "expected s:  6.0 \t p-val:  0.21025110554874318\n",
      "expected s:  7.0 \t p-val:  0.12838664508882555\n",
      "expected s:  8.0 \t p-val:  0.07504113738341638\n",
      "expected s:  9.0 \t p-val:  0.04225517364020971\n",
      "expected s:  10.0 \t p-val:  0.023043101774884243\n"
     ]
    }
   ],
   "source": [
    "s_exp_max = np.linspace(0,10,11)\n",
    "\n",
    "for k in s_exp_max:\n",
    "    #print(\"self-defined function: \", pval_sig_plus_bkg(n_obs,b_exp,k))\n",
    "    #print(\"scipy short-cut: \", scp.stats.poisson.cdf(5,1.8+k))\n",
    "    print(\"expected s: \", k, \"\\t p-val: \", scp.stats.poisson.cdf(5,1.8+k))"
   ]
  },
  {
   "cell_type": "markdown",
   "id": "652ede68-1d66-4552-a1b1-3206f1791e0d",
   "metadata": {},
   "source": [
    "5% is somewhere between 8 and 9 events. Fine-tune the search there:"
   ]
  },
  {
   "cell_type": "code",
   "execution_count": 39,
   "id": "a7201cd2-5fe3-42d5-85ac-3dc3f089b852",
   "metadata": {},
   "outputs": [
    {
     "name": "stdout",
     "output_type": "stream",
     "text": [
      "expected s:  8.0 \t p-val:  0.07504113738341638\n",
      "expected s:  8.1 \t p-val:  0.07096514087048697\n",
      "expected s:  8.2 \t p-val:  0.06708596287903189\n",
      "expected s:  8.3 \t p-val:  0.06339596386834864\n",
      "expected s:  8.4 \t p-val:  0.05988765537102165\n",
      "expected s:  8.5 \t p-val:  0.05655370984090572\n",
      "expected s:  8.6 \t p-val:  0.053386969043626664\n",
      "expected s:  8.7 \t p-val:  0.05038045108893583\n",
      "expected s:  8.8 \t p-val:  0.04752735620150341\n",
      "expected s:  8.9 \t p-val:  0.04482107132365227\n",
      "expected s:  9.0 \t p-val:  0.04225517364020971\n"
     ]
    }
   ],
   "source": [
    "s_exp_max = np.linspace(8,9,11)\n",
    "\n",
    "for k in s_exp_max:\n",
    "    print(\"expected s: \", k, \"\\t p-val: \", scp.stats.poisson.cdf(5,1.8+k))"
   ]
  },
  {
   "cell_type": "markdown",
   "id": "9937f51d-1843-4986-bbe4-f0849b08ea94",
   "metadata": {},
   "source": [
    "5% is somewhere between 8.7 and 8.8 events. Fine-tune the search there:"
   ]
  },
  {
   "cell_type": "code",
   "execution_count": 40,
   "id": "c9a3deef-959d-458f-8f3f-eb672f0a8e29",
   "metadata": {},
   "outputs": [
    {
     "name": "stdout",
     "output_type": "stream",
     "text": [
      "expected s:  8.7 \t p-val:  0.05038045108893583\n",
      "expected s:  8.709999999999999 \t p-val:  0.05008834815427274\n",
      "expected s:  8.719999999999999 \t p-val:  0.04979777259804961\n",
      "expected s:  8.73 \t p-val:  0.049508717740923115\n",
      "expected s:  8.74 \t p-val:  0.04922117692231874\n",
      "expected s:  8.75 \t p-val:  0.048935143500466564\n",
      "expected s:  8.76 \t p-val:  0.04865061085244038\n",
      "expected s:  8.77 \t p-val:  0.04836757237419089\n",
      "expected s:  8.780000000000001 \t p-val:  0.04808602148058197\n",
      "expected s:  8.790000000000001 \t p-val:  0.04780595160542332\n",
      "expected s:  8.8 \t p-val:  0.04752735620150341\n"
     ]
    }
   ],
   "source": [
    "s_exp_max = np.linspace(8.7,8.8,11)\n",
    "\n",
    "for k in s_exp_max:\n",
    "    print(\"expected s: \", k, \"\\t p-val: \", scp.stats.poisson.cdf(5,1.8+k))"
   ]
  },
  {
   "cell_type": "markdown",
   "id": "9d1e788e-9f18-48a8-b05b-9a73df18b502",
   "metadata": {},
   "source": [
    "5% is somewhere between 8.71 and 8.72 events. Fine-tune the search there:"
   ]
  },
  {
   "cell_type": "code",
   "execution_count": 41,
   "id": "b3fe686f-32e5-488a-90f6-54f529d70007",
   "metadata": {},
   "outputs": [
    {
     "name": "stdout",
     "output_type": "stream",
     "text": [
      "expected s:  8.71 \t p-val:  0.05008834815427272\n",
      "expected s:  8.711 \t p-val:  0.05005922197697671\n",
      "expected s:  8.712000000000002 \t p-val:  0.05003011106676179\n",
      "expected s:  8.713000000000001 \t p-val:  0.05000101541694229\n",
      "expected s:  8.714 \t p-val:  0.04997193502083388\n",
      "expected s:  8.715 \t p-val:  0.049942869871754565\n",
      "expected s:  8.716000000000001 \t p-val:  0.04991381996302396\n",
      "expected s:  8.717 \t p-val:  0.0498847852879639\n",
      "expected s:  8.718 \t p-val:  0.04985576583989758\n",
      "expected s:  8.719000000000001 \t p-val:  0.049826761612150244\n",
      "expected s:  8.72 \t p-val:  0.049797772598049524\n"
     ]
    }
   ],
   "source": [
    "s_exp_max = np.linspace(8.71,8.72,11)\n",
    "\n",
    "for k in s_exp_max:\n",
    "    print(\"expected s: \", k, \"\\t p-val: \", scp.stats.poisson.cdf(5,1.8+k))"
   ]
  },
  {
   "cell_type": "markdown",
   "id": "11ee2613-f4fd-4f22-99ab-a8e4c0989dc8",
   "metadata": {},
   "source": [
    "5% is somewhere between 8.713 and 8.714 events. Fine-tune the search there:"
   ]
  },
  {
   "cell_type": "code",
   "execution_count": 42,
   "id": "3296b8b1-d167-4d3c-bef4-58f1cbd3cb66",
   "metadata": {},
   "outputs": [
    {
     "name": "stdout",
     "output_type": "stream",
     "text": [
      "expected s:  8.713 \t p-val:  0.05000101541694232\n",
      "expected s:  8.713099999999999 \t p-val:  0.04999810669102477\n",
      "expected s:  8.713199999999999 \t p-val:  0.049995198117637606\n",
      "expected s:  8.7133 \t p-val:  0.04999228969677415\n",
      "expected s:  8.7134 \t p-val:  0.049989381428427807\n",
      "expected s:  8.7135 \t p-val:  0.04998647331259182\n",
      "expected s:  8.7136 \t p-val:  0.04998356534925956\n",
      "expected s:  8.7137 \t p-val:  0.04998065753842439\n",
      "expected s:  8.7138 \t p-val:  0.04997774988007933\n",
      "expected s:  8.7139 \t p-val:  0.04997484237421816\n",
      "expected s:  8.714 \t p-val:  0.04997193502083388\n"
     ]
    }
   ],
   "source": [
    "s_exp_max = np.linspace(8.713,8.714,11)\n",
    "\n",
    "for k in s_exp_max:\n",
    "    print(\"expected s: \", k, \"\\t p-val: \", scp.stats.poisson.cdf(5,1.8+k))"
   ]
  },
  {
   "cell_type": "code",
   "execution_count": 43,
   "id": "bf541e09-3240-4246-bbf8-4a364dd646f1",
   "metadata": {},
   "outputs": [
    {
     "data": {
      "text/plain": [
       "2.908725917634414e-06"
      ]
     },
     "execution_count": 43,
     "metadata": {},
     "output_type": "execute_result"
    }
   ],
   "source": [
    "# look at the difference between the p-values for lambda_s = 8.713 and 8.714\n",
    "\n",
    "scp.stats.poisson.cdf(5,1.8+8.713) - scp.stats.poisson.cdf(5,1.8+8.7131)"
   ]
  },
  {
   "cell_type": "markdown",
   "id": "39bc61fc-bf94-4db5-8a64-99945d55f0c6",
   "metadata": {},
   "source": [
    "This difference is smaller than 10^⁻5 --> therefore lambda_s_max is 8.713"
   ]
  },
  {
   "cell_type": "code",
   "execution_count": 45,
   "id": "a95ea99e-2796-4b8e-9560-bfd923bd1891",
   "metadata": {},
   "outputs": [],
   "source": [
    "dist = np.random.poisson((1.8+8.713), 10000000)  #MC with signal equal to 95% CL limit"
   ]
  },
  {
   "cell_type": "code",
   "execution_count": 47,
   "id": "ca447902-68c5-4a3d-95e7-ffed6982b5a0",
   "metadata": {},
   "outputs": [
    {
     "name": "stdout",
     "output_type": "stream",
     "text": [
      "4.98935%\n"
     ]
    }
   ],
   "source": [
    "count = 0\n",
    "for i in range(len(dist)):\n",
    "    if dist[i] < 6:\n",
    "        count +=1 # count cases with n <= n_obs --> should by ~5% by construction\n",
    "print(str(count/len(dist) * 100) + \"%\")\n"
   ]
  },
  {
   "cell_type": "code",
   "execution_count": null,
   "id": "b088b64a-f1bd-417e-86cb-1e7e47d2bcdf",
   "metadata": {},
   "outputs": [],
   "source": []
  }
 ],
 "metadata": {
  "kernelspec": {
   "display_name": "Python 3 (ipykernel)",
   "language": "python",
   "name": "python3"
  },
  "language_info": {
   "codemirror_mode": {
    "name": "ipython",
    "version": 3
   },
   "file_extension": ".py",
   "mimetype": "text/x-python",
   "name": "python",
   "nbconvert_exporter": "python",
   "pygments_lexer": "ipython3",
   "version": "3.9.18"
  }
 },
 "nbformat": 4,
 "nbformat_minor": 5
}
