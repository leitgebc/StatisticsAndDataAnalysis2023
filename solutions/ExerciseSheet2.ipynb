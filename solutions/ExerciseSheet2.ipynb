{
 "cells": [
  {
   "cell_type": "markdown",
   "id": "4fb0164c-d97e-4e74-9628-fc62cb40eecf",
   "metadata": {},
   "source": [
    "# Exercise Sheet 2\n",
    "\n",
    "## Exercise 1: Coin Flipping\n",
    "\n",
    "Given a set of 10 coins, with one of them unfair (both sides are tail), and all others fair.\n",
    "\n",
    "<ol style=\"list-style-type: lower-alpha\">\n",
    "  <li>We pick a coin randomly. What is the probability that this coin is unfair?</li>\n",
    "  <li>If we toss this coin, what is the probability that we get tail?</li>\n",
    "  <li>We now toss this coin and get tail. What is the probability that this coin is unfair?</li>\n",
    "  <li>Write a simulation to check your result obtained under (c).</li>\n",
    "</ol>"
   ]
  },
  {
   "cell_type": "code",
   "execution_count": 1,
   "id": "2d7d5b2d-fd96-4583-9ff1-913f446f292b",
   "metadata": {},
   "outputs": [
    {
     "name": "stdout",
     "output_type": "stream",
     "text": [
      "P(tail) =  0.549825\n"
     ]
    }
   ],
   "source": [
    "import numpy as np\n",
    "\n",
    "# 0 = head, 1 = tail, each coin is being tossed 1000 times\n",
    "\n",
    "fair_coins = np.random.randint(0, 2, 900000)  # random array of 0 and 1\n",
    "unfair_coin = np.ones(100000) # array of ones\n",
    "\n",
    "experiment = np.concatenate([fair_coins, unfair_coin]) # this is the result of our simulated experiment\n",
    "\n",
    "Ptail = experiment[(experiment==1)].size / experiment.size\n",
    "\n",
    "print('P(tail) = ', Ptail)"
   ]
  },
  {
   "cell_type": "code",
   "execution_count": 2,
   "id": "bb5147d0-200f-4fa5-a622-10e4488ef3bc",
   "metadata": {},
   "outputs": [
    {
     "data": {
      "text/plain": [
       "fair      0.0\n",
       "fair      1.0\n",
       "fair      1.0\n",
       "fair      0.0\n",
       "fair      0.0\n",
       "         ... \n",
       "unfair    1.0\n",
       "unfair    1.0\n",
       "unfair    1.0\n",
       "unfair    1.0\n",
       "unfair    1.0\n",
       "Length: 1000000, dtype: float64"
      ]
     },
     "execution_count": 2,
     "metadata": {},
     "output_type": "execute_result"
    }
   ],
   "source": [
    "# even more handy: use Pandas series! --> can store values in addition to the fair/unfair information\n",
    "\n",
    "import pandas as pd\n",
    "\n",
    "fair_coin_flips = pd.Series(fair_coins, index = ['fair' for i in fair_coins])\n",
    "unfair_coin_flips = pd.Series(unfair_coin, index = ['unfair' for i in unfair_coin])\n",
    "\n",
    "experiment_flips = pd.concat([fair_coin_flips, unfair_coin_flips], axis=0, join='inner')\n",
    "experiment_flips"
   ]
  },
  {
   "cell_type": "code",
   "execution_count": 3,
   "id": "f4261d6b-4e9a-4530-8583-b91789862334",
   "metadata": {},
   "outputs": [
    {
     "name": "stdout",
     "output_type": "stream",
     "text": [
      "P(unfair | tail) =  0.18187605147092256\n"
     ]
    }
   ],
   "source": [
    "# now count how many '1's we get if the coin is unfair as compared to how many '1's we get in total --> this is our P(unfair | tail)\n",
    "\n",
    "P_unfair_tail = experiment_flips[(experiment_flips.values==1) & (experiment_flips.index == 'unfair')].size / experiment_flips[(experiment_flips.values == 1)].size\n",
    "\n",
    "print('P(unfair | tail) = ', P_unfair_tail)"
   ]
  },
  {
   "cell_type": "code",
   "execution_count": null,
   "id": "c792fcaf-2cbd-4ecb-85ab-d6258f83d174",
   "metadata": {},
   "outputs": [],
   "source": []
  }
 ],
 "metadata": {
  "kernelspec": {
   "display_name": "Python 3 (ipykernel)",
   "language": "python",
   "name": "python3"
  },
  "language_info": {
   "codemirror_mode": {
    "name": "ipython",
    "version": 3
   },
   "file_extension": ".py",
   "mimetype": "text/x-python",
   "name": "python",
   "nbconvert_exporter": "python",
   "pygments_lexer": "ipython3",
   "version": "3.9.18"
  }
 },
 "nbformat": 4,
 "nbformat_minor": 5
}
