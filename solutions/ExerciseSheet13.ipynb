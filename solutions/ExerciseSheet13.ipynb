{
 "cells": [
  {
   "cell_type": "code",
   "execution_count": 2,
   "id": "422e34db-9a77-420a-a2b3-fef4ab70fd2b",
   "metadata": {},
   "outputs": [],
   "source": [
    "import numpy as np\n",
    "import pandas as pd\n",
    "import matplotlib as mpl\n",
    "import matplotlib.pyplot as plt\n",
    "import scipy as scp\n",
    "import math"
   ]
  },
  {
   "cell_type": "code",
   "execution_count": 31,
   "id": "a68235dd-9ad8-47f7-971f-0dd83671ca99",
   "metadata": {},
   "outputs": [
    {
     "name": "stdout",
     "output_type": "stream",
     "text": [
      "0.04802149221409335\n",
      "1.6643476037266856\n"
     ]
    }
   ],
   "source": [
    "# binomial\n",
    "\n",
    "n_on = 4\n",
    "n_off = 5\n",
    "n_tot = n_on+n_off\n",
    "tau = 5\n",
    "\n",
    "mu_b = n_off/tau\n",
    "rho = (1/(1+tau))\n",
    "\n",
    "p = 1-scp.stats.binom.cdf(n_on-1, n_tot, rho)\n",
    "print(p)\n",
    "\n",
    "Z = math.sqrt(2)*scp.special.erfinv(1-2*p)\n",
    "print(Z)"
   ]
  },
  {
   "cell_type": "code",
   "execution_count": 36,
   "id": "4322ef6c-cafc-4aea-849e-abd6b704988f",
   "metadata": {},
   "outputs": [],
   "source": [
    "def LLH(muS, muB, n_off, n_on, tau):\n",
    "    return scp.stats.poisson.pmf(n_on, (muS+muB)) * scp.stats.poisson.pmf(n_off, (tau*muB))\n",
    "\n",
    "def negLLHglobal(means, data):\n",
    "    n_on, n_off, tau = data\n",
    "    muS, muB = means\n",
    "    return -LLH(muS, muB, n_off, n_on, tau)\n",
    "\n",
    "def negLLHprofile(muB, data):\n",
    "    muS, n_on, n_off, tau = data\n",
    "    return -LLH(muS, muB, n_off, n_on, tau)"
   ]
  },
  {
   "cell_type": "code",
   "execution_count": 38,
   "id": "7edf03bd-c8ae-41df-bb33-8b065fbcd4af",
   "metadata": {},
   "outputs": [
    {
     "data": {
      "text/plain": [
       "       message: Optimization terminated successfully.\n",
       "       success: True\n",
       "        status: 0\n",
       "           fun: -0.03428050111526255\n",
       "             x: [ 3.000e+00  1.000e+00]\n",
       "           nit: 45\n",
       "          nfev: 90\n",
       " final_simplex: (array([[ 3.000e+00,  1.000e+00],\n",
       "                       [ 3.000e+00,  1.000e+00],\n",
       "                       [ 3.000e+00,  1.000e+00]]), array([-3.428e-02, -3.428e-02, -3.428e-02]))"
      ]
     },
     "execution_count": 38,
     "metadata": {},
     "output_type": "execute_result"
    }
   ],
   "source": [
    "data1 = np.array([n_on, n_off, tau])\n",
    "globalfit = scp.optimize.minimize(negLLHglobal, args=data1, x0=(1.0,2.0), method='Nelder-Mead')\n",
    "globalfit"
   ]
  },
  {
   "cell_type": "code",
   "execution_count": 39,
   "id": "e2ec9ed3-0325-4f61-bd16-eebaad4eff84",
   "metadata": {},
   "outputs": [
    {
     "data": {
      "text/plain": [
       "       message: Optimization terminated successfully.\n",
       "       success: True\n",
       "        status: 0\n",
       "           fun: -0.005147881346465465\n",
       "             x: [ 1.500e+00]\n",
       "           nit: 14\n",
       "          nfev: 28\n",
       " final_simplex: (array([[ 1.500e+00],\n",
       "                       [ 1.500e+00]]), array([-5.148e-03, -5.148e-03]))"
      ]
     },
     "execution_count": 39,
     "metadata": {},
     "output_type": "execute_result"
    }
   ],
   "source": [
    "data2 = np.array([0,n_on,n_off,tau])\n",
    "profilefit = scp.optimize.minimize(negLLHprofile, args=data2, x0=2.0, method='Nelder-Mead')\n",
    "profilefit"
   ]
  },
  {
   "cell_type": "code",
   "execution_count": 40,
   "id": "d617cfac-0241-4dc5-9d1e-2610fcf12ce9",
   "metadata": {},
   "outputs": [
    {
     "data": {
      "text/plain": [
       "3.791982941849624"
      ]
     },
     "execution_count": 40,
     "metadata": {},
     "output_type": "execute_result"
    }
   ],
   "source": [
    "LLHratio = -2*np.log(LLH(0,profilefit.x[0],n_off, n_on, tau)/LLH(globalfit.x[0],globalfit.x[1],n_off,n_on,tau))\n",
    "LLHratio"
   ]
  },
  {
   "cell_type": "code",
   "execution_count": 41,
   "id": "839e5ded-399f-45f2-bffa-ff3fa67a17fb",
   "metadata": {},
   "outputs": [
    {
     "data": {
      "text/plain": [
       "1.9473014512010265"
      ]
     },
     "execution_count": 41,
     "metadata": {},
     "output_type": "execute_result"
    }
   ],
   "source": [
    "ZPL = math.sqrt(LLHratio)\n",
    "ZPL"
   ]
  },
  {
   "cell_type": "code",
   "execution_count": 64,
   "id": "a431bc39-dba7-40cd-8598-25f3d880b8bd",
   "metadata": {},
   "outputs": [],
   "source": [
    "def PBF(j, n_off, rho):\n",
    "    return ((math.factorial(j+n_off))/(math.factorial(j)*math.factorial(n_off))) * rho**(j)*(1-rho)**(n_off+1)"
   ]
  },
  {
   "cell_type": "code",
   "execution_count": 65,
   "id": "16c8a81a-fe09-4741-8012-a53f43e87cce",
   "metadata": {},
   "outputs": [
    {
     "name": "stdout",
     "output_type": "stream",
     "text": [
      "0.04802149221409324\n",
      "1.6643476037266869\n"
     ]
    }
   ],
   "source": [
    "j = np.linspace(0,n_on-1,n_on, dtype=int)\n",
    "ps = np.array([PBF(i,n_off,rho) for i in j])\n",
    "pBF = 1-np.sum(ps)\n",
    "print(pBF)\n",
    "ZBF = math.sqrt(2)*scp.special.erfinv(1-2*pBF)\n",
    "print(ZBF)"
   ]
  },
  {
   "cell_type": "code",
   "execution_count": null,
   "id": "ca0e5454-3798-40bd-8b5e-332ce1ad92f6",
   "metadata": {},
   "outputs": [],
   "source": []
  }
 ],
 "metadata": {
  "kernelspec": {
   "display_name": "Python 3 (ipykernel)",
   "language": "python",
   "name": "python3"
  },
  "language_info": {
   "codemirror_mode": {
    "name": "ipython",
    "version": 3
   },
   "file_extension": ".py",
   "mimetype": "text/x-python",
   "name": "python",
   "nbconvert_exporter": "python",
   "pygments_lexer": "ipython3",
   "version": "3.9.18"
  }
 },
 "nbformat": 4,
 "nbformat_minor": 5
}
