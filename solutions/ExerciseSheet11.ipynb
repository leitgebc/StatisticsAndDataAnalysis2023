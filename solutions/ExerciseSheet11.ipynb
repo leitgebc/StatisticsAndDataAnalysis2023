{
 "cells": [
  {
   "cell_type": "code",
   "execution_count": 1,
   "id": "461a8053-e124-4695-a62c-ce773e56012a",
   "metadata": {},
   "outputs": [],
   "source": [
    "import numpy as np\n",
    "import pandas as pd\n",
    "import scipy as scp\n",
    "import matplotlib as mpl\n",
    "import matplotlib.pyplot as plt"
   ]
  },
  {
   "cell_type": "markdown",
   "id": "8633e588-c2f4-4cbd-b1f3-97d6d5e190aa",
   "metadata": {},
   "source": [
    "### Exercise 1: Confident limits for Poisson distributed processes\n",
    "\n",
    "$$P(n\\leq N) = \\sum_{n=0}^{N}\\frac{\\lambda^{n}}{n!}\\exp{(-\\lambda)}$$\n",
    "\n",
    "$$P(n\\geq N) = \\sum_{n=N}^{\\inf}\\frac{\\lambda^{n}}{n!}\\exp{(-\\lambda)} = 1 - \\sum_{n=0}^{N-1}\\frac{\\lambda^{n}}{n!}\\exp{(-\\lambda)}$$\n",
    "\n",
    "Looking for $N$ for which $P=10\\%$"
   ]
  },
  {
   "cell_type": "code",
   "execution_count": 2,
   "id": "5af15531-15dd-48bf-84d8-f5a0e3f54852",
   "metadata": {},
   "outputs": [],
   "source": [
    "def CI_givenExp(l, mode='below'):\n",
    "    N = np.linspace(0,100,101)\n",
    "    \n",
    "    if mode == 'below':\n",
    "        previous_P = 0\n",
    "        N_CI = 0\n",
    "        for nu in N:\n",
    "            if scp.stats.poisson.cdf(nu,l) > 0.1 and previous_P < 0.1:\n",
    "                N_CI = nu-1\n",
    "                break\n",
    "            else:\n",
    "                previous_P = scp.stats.poisson.cdf(nu,l)\n",
    "        return N_CI\n",
    "        \n",
    "    elif mode == 'above':\n",
    "        previous_P = 0\n",
    "        N_CI = 0\n",
    "        for nu in N:\n",
    "            if (1-scp.stats.poisson.cdf(nu-1,l)) < 0.1 and previous_P > 0.1:\n",
    "                N_CI = nu-1\n",
    "                break\n",
    "            else:\n",
    "                previous_P = 1-scp.stats.poisson.cdf(nu-1,l)\n",
    "        return N_CI\n",
    "    elif mode == 'central':\n",
    "        previous_P = 0\n",
    "        Np_CI = 0\n",
    "        Nm_CI = 0\n",
    "        for nu in N:\n",
    "            if scp.stats.poisson.cdf(nu,l) > 0.05 and previous_P < 0.05:\n",
    "                Np_CI = nu-1\n",
    "                break\n",
    "            else:\n",
    "                previous_P = scp.stats.poisson.cdf(nu,l)\n",
    "        previous_P = 0\n",
    "        for nu in N:\n",
    "            if (1-scp.stats.poisson.cdf(nu-1,l)) < 0.05 and previous_P > 0.05:\n",
    "                Nm_CI = nu-1\n",
    "                break\n",
    "            else:\n",
    "                previous_P = 1-scp.stats.poisson.cdf(nu-1,l)\n",
    "        return (Nm_CI,Np_CI)\n",
    "            "
   ]
  },
  {
   "cell_type": "code",
   "execution_count": 3,
   "id": "1a3f1431-7b9b-4046-8c12-8f5dba5fd64d",
   "metadata": {},
   "outputs": [
    {
     "name": "stdout",
     "output_type": "stream",
     "text": [
      "lambda =  1.0 \t N_obs(P=10\\%) =  -1.0\n",
      "lambda =  2.0 \t N_obs(P=10\\%) =  -1.0\n",
      "lambda =  3.0 \t N_obs(P=10\\%) =  0.0\n",
      "lambda =  4.0 \t N_obs(P=10\\%) =  1.0\n",
      "lambda =  5.0 \t N_obs(P=10\\%) =  1.0\n",
      "lambda =  6.0 \t N_obs(P=10\\%) =  2.0\n",
      "lambda =  7.0 \t N_obs(P=10\\%) =  3.0\n",
      "lambda =  8.0 \t N_obs(P=10\\%) =  4.0\n",
      "lambda =  9.0 \t N_obs(P=10\\%) =  4.0\n",
      "lambda =  10.0 \t N_obs(P=10\\%) =  5.0\n",
      "lambda =  11.0 \t N_obs(P=10\\%) =  6.0\n",
      "lambda =  12.0 \t N_obs(P=10\\%) =  7.0\n"
     ]
    }
   ],
   "source": [
    "ls = np.linspace(1,12,12)\n",
    "for l in ls:\n",
    "    print ('lambda = ', l, '\\t N_obs(P=10\\%) = ', CI_givenExp(l,mode='below'))"
   ]
  },
  {
   "cell_type": "code",
   "execution_count": 4,
   "id": "638aa086-dca9-49b6-a242-fffa58f34a5d",
   "metadata": {},
   "outputs": [
    {
     "name": "stdout",
     "output_type": "stream",
     "text": [
      "lambda =  1.0 \t N_obs(P=10\\%) =  2.0\n",
      "lambda =  2.0 \t N_obs(P=10\\%) =  4.0\n",
      "lambda =  3.0 \t N_obs(P=10\\%) =  5.0\n",
      "lambda =  4.0 \t N_obs(P=10\\%) =  7.0\n",
      "lambda =  5.0 \t N_obs(P=10\\%) =  8.0\n",
      "lambda =  6.0 \t N_obs(P=10\\%) =  9.0\n",
      "lambda =  7.0 \t N_obs(P=10\\%) =  10.0\n",
      "lambda =  8.0 \t N_obs(P=10\\%) =  12.0\n",
      "lambda =  9.0 \t N_obs(P=10\\%) =  13.0\n",
      "lambda =  10.0 \t N_obs(P=10\\%) =  14.0\n",
      "lambda =  11.0 \t N_obs(P=10\\%) =  15.0\n",
      "lambda =  12.0 \t N_obs(P=10\\%) =  17.0\n"
     ]
    }
   ],
   "source": [
    "for l in ls:\n",
    "    print ('lambda = ', l, '\\t N_obs(P=10\\%) = ', CI_givenExp(l,mode='above'))"
   ]
  },
  {
   "cell_type": "code",
   "execution_count": 5,
   "id": "b92b9512-c964-4496-8a22-bfeaee688441",
   "metadata": {},
   "outputs": [
    {
     "name": "stdout",
     "output_type": "stream",
     "text": [
      "lambda =  1.0 \t N_lower =  -1.0 \t N_upper =  3.0\n",
      "lambda =  2.0 \t N_lower =  -1.0 \t N_upper =  5.0\n",
      "lambda =  3.0 \t N_lower =  0.0 \t N_upper =  6.0\n",
      "lambda =  4.0 \t N_lower =  0.0 \t N_upper =  8.0\n",
      "lambda =  5.0 \t N_lower =  1.0 \t N_upper =  9.0\n",
      "lambda =  6.0 \t N_lower =  1.0 \t N_upper =  10.0\n",
      "lambda =  7.0 \t N_lower =  2.0 \t N_upper =  12.0\n",
      "lambda =  8.0 \t N_lower =  3.0 \t N_upper =  13.0\n",
      "lambda =  9.0 \t N_lower =  3.0 \t N_upper =  14.0\n",
      "lambda =  10.0 \t N_lower =  4.0 \t N_upper =  15.0\n",
      "lambda =  11.0 \t N_lower =  5.0 \t N_upper =  17.0\n",
      "lambda =  12.0 \t N_lower =  6.0 \t N_upper =  18.0\n"
     ]
    }
   ],
   "source": [
    "for l in ls:\n",
    "    print ('lambda = ', l, '\\t N_lower = ', CI_givenExp(l,mode='central')[1], '\\t N_upper = ', CI_givenExp(l,mode='central')[0])"
   ]
  },
  {
   "cell_type": "code",
   "execution_count": 6,
   "id": "f0d77f83-1ba6-4b76-b089-69ff047fd72e",
   "metadata": {},
   "outputs": [],
   "source": [
    "def CI_givenObs(nu, mode='below'):\n",
    "    L = np.linspace(0,30,10000)\n",
    "    it = 0\n",
    "    if mode == 'below':\n",
    "        previous_P = 0\n",
    "        l_CI = 0\n",
    "        for l in L:\n",
    "            if scp.stats.poisson.cdf(nu-1,l) < 0.9 and previous_P > 0.9:\n",
    "                l_CI = L[it-1]\n",
    "                break\n",
    "            else:\n",
    "                previous_P = scp.stats.poisson.cdf(nu-1,l)\n",
    "                it += 1\n",
    "        return l_CI\n",
    "        \n",
    "    elif mode == 'above':\n",
    "        previous_P = 0\n",
    "        l_CI = 0\n",
    "        for l in L:\n",
    "            if (1-scp.stats.poisson.cdf(nu,l)) > 0.9 and previous_P < 0.9:\n",
    "                l_CI = L[it-1]\n",
    "                break\n",
    "            else:\n",
    "                previous_P = 1-scp.stats.poisson.cdf(nu,l)\n",
    "                it += 1\n",
    "        return l_CI\n",
    "        \n",
    "    elif mode == 'central':\n",
    "        previous_P = 0\n",
    "        lp_CI = 0\n",
    "        lm_CI = 0\n",
    "        for l in L:\n",
    "            if scp.stats.poisson.cdf(nu,l) < 0.05 and previous_P > 0.05:\n",
    "                lp_CI = L[it-1]\n",
    "                break\n",
    "            else:\n",
    "                previous_P = scp.stats.poisson.cdf(nu,l)\n",
    "                it += 1\n",
    "        previous_P = 0\n",
    "        it = 0\n",
    "        for l in L:\n",
    "            if nu == 0:\n",
    "                lm_CI = 0\n",
    "                break\n",
    "            if (1-scp.stats.poisson.cdf(nu-1,l)) > 0.05 and previous_P < 0.05:\n",
    "                lm_CI = L[it-1]\n",
    "                break\n",
    "            else:\n",
    "                previous_P = 1-scp.stats.poisson.cdf(nu-1,l)\n",
    "                it += 1\n",
    "        return (lm_CI,lp_CI)"
   ]
  },
  {
   "cell_type": "code",
   "execution_count": 7,
   "id": "3c7f15a5-08c0-4e45-9892-b8de22afe3bc",
   "metadata": {},
   "outputs": [
    {
     "name": "stdout",
     "output_type": "stream",
     "text": [
      "N_obs =  0.0 \t lambda(P=10\\%) =  0\n",
      "N_obs =  1.0 \t lambda(P=10\\%) =  0.10501050105010501\n",
      "N_obs =  2.0 \t lambda(P=10\\%) =  0.5310531053105311\n",
      "N_obs =  3.0 \t lambda(P=10\\%) =  1.101110111011101\n",
      "N_obs =  4.0 \t lambda(P=10\\%) =  1.7431743174317431\n",
      "N_obs =  5.0 \t lambda(P=10\\%) =  2.43024302430243\n",
      "N_obs =  6.0 \t lambda(P=10\\%) =  3.1503150315031503\n",
      "N_obs =  7.0 \t lambda(P=10\\%) =  3.894389438943894\n",
      "N_obs =  8.0 \t lambda(P=10\\%) =  4.653465346534653\n",
      "N_obs =  9.0 \t lambda(P=10\\%) =  5.4305430543054305\n",
      "N_obs =  10.0 \t lambda(P=10\\%) =  6.219621962196219\n",
      "N_obs =  11.0 \t lambda(P=10\\%) =  7.020702070207021\n",
      "N_obs =  12.0 \t lambda(P=10\\%) =  7.827782778277827\n"
     ]
    }
   ],
   "source": [
    "# lower limits\n",
    "ns = np.linspace(0,12,13)\n",
    "for n in ns:\n",
    "    print ('N_obs = ', n, '\\t lambda(P=10\\%) = ', CI_givenObs(n,mode='below'))"
   ]
  },
  {
   "cell_type": "code",
   "execution_count": 8,
   "id": "289e91c1-ab1c-4415-a596-55501347136c",
   "metadata": {},
   "outputs": [
    {
     "name": "stdout",
     "output_type": "stream",
     "text": [
      "N_obs =  0.0 \t lambda(P=10\\%) =  2.301230123012301\n",
      "N_obs =  1.0 \t lambda(P=10\\%) =  3.888388838883888\n",
      "N_obs =  2.0 \t lambda(P=10\\%) =  5.31953195319532\n",
      "N_obs =  3.0 \t lambda(P=10\\%) =  6.678667866786678\n",
      "N_obs =  4.0 \t lambda(P=10\\%) =  7.9927992799279926\n",
      "N_obs =  5.0 \t lambda(P=10\\%) =  9.273927392739273\n",
      "N_obs =  6.0 \t lambda(P=10\\%) =  10.53105310531053\n",
      "N_obs =  7.0 \t lambda(P=10\\%) =  11.77017701770177\n",
      "N_obs =  8.0 \t lambda(P=10\\%) =  12.994299429942993\n",
      "N_obs =  9.0 \t lambda(P=10\\%) =  14.203420342034203\n",
      "N_obs =  10.0 \t lambda(P=10\\%) =  15.406540654065406\n",
      "N_obs =  11.0 \t lambda(P=10\\%) =  16.597659765976598\n",
      "N_obs =  12.0 \t lambda(P=10\\%) =  17.779777977797778\n"
     ]
    }
   ],
   "source": [
    "# upper limits\n",
    "for n in ns:\n",
    "    print ('N_obs = ', n, '\\t lambda(P=10\\%) = ', CI_givenObs(n,mode='above'))"
   ]
  },
  {
   "cell_type": "code",
   "execution_count": 9,
   "id": "6b6178de-668f-45c0-a3c3-7272fab9d2d4",
   "metadata": {},
   "outputs": [
    {
     "name": "stdout",
     "output_type": "stream",
     "text": [
      "N_obs =  0.0 \t lambda_lower =  0 \t lambda_upper =  2.994299429942994\n",
      "N_obs =  1.0 \t lambda_lower =  0.051005100510051 \t lambda_upper =  4.743474347434743\n",
      "N_obs =  2.0 \t lambda_lower =  0.354035403540354 \t lambda_upper =  6.294629462946294\n",
      "N_obs =  3.0 \t lambda_lower =  0.816081608160816 \t lambda_upper =  7.7527752775277525\n",
      "N_obs =  4.0 \t lambda_lower =  1.3651365136513651 \t lambda_upper =  9.15091509150915\n",
      "N_obs =  5.0 \t lambda_lower =  1.9681968196819681 \t lambda_upper =  10.51005100510051\n",
      "N_obs =  6.0 \t lambda_lower =  2.6102610261026102 \t lambda_upper =  11.842184218421842\n",
      "N_obs =  7.0 \t lambda_lower =  3.282328232823282 \t lambda_upper =  13.147314731473147\n",
      "N_obs =  8.0 \t lambda_lower =  3.978397839783978 \t lambda_upper =  14.434443444344433\n",
      "N_obs =  9.0 \t lambda_lower =  4.692469246924692 \t lambda_upper =  15.703570357035703\n",
      "N_obs =  10.0 \t lambda_lower =  5.424542454245424 \t lambda_upper =  16.96069606960696\n",
      "N_obs =  11.0 \t lambda_lower =  6.168616861686168 \t lambda_upper =  18.205820582058205\n",
      "N_obs =  12.0 \t lambda_lower =  6.9216921692169215 \t lambda_upper =  19.44194419441944\n"
     ]
    }
   ],
   "source": [
    "# central limits\n",
    "for n in ns:\n",
    "    print ('N_obs = ', n, '\\t lambda_lower = ', CI_givenObs(n,mode='central')[0], '\\t lambda_upper = ', CI_givenObs(n,mode='central')[1])"
   ]
  },
  {
   "cell_type": "markdown",
   "id": "c1b36b94-bd42-405c-9017-16d883a4bdd9",
   "metadata": {},
   "source": [
    "### Exercise 2: Proton Decays"
   ]
  },
  {
   "cell_type": "code",
   "execution_count": 10,
   "id": "0e59b6a1-8c18-4d8e-99cc-3d9200ce0a73",
   "metadata": {},
   "outputs": [],
   "source": [
    "import math"
   ]
  },
  {
   "cell_type": "code",
   "execution_count": 76,
   "id": "ef2d91bd-28c3-42aa-84d1-ae7fb1f438bc",
   "metadata": {},
   "outputs": [
    {
     "name": "stdout",
     "output_type": "stream",
     "text": [
      "3.282328232823282  <= <N_decays> <=  13.147314731473147\n"
     ]
    }
   ],
   "source": [
    "Nsamp = 6.022*10**32\n",
    "\n",
    "l_lower, l_upper = CI_givenObs(7,mode=\"central\")\n",
    "print(l_lower, \" <= <N_decays> <= \", l_upper)"
   ]
  },
  {
   "cell_type": "code",
   "execution_count": 14,
   "id": "23a28ffe-341c-4aef-9591-e9db41ce1e74",
   "metadata": {},
   "outputs": [],
   "source": [
    "def posterior(nu,n):\n",
    "    return (nu**(n-1)*np.exp(-nu))/scp.special.gamma(n)"
   ]
  },
  {
   "cell_type": "code",
   "execution_count": 78,
   "id": "3fe2ce8d-f8c7-4322-a3d1-6361b1572cf2",
   "metadata": {},
   "outputs": [
    {
     "data": {
      "text/plain": [
       "<matplotlib.legend.Legend at 0x7f57e2bbb100>"
      ]
     },
     "execution_count": 78,
     "metadata": {},
     "output_type": "execute_result"
    },
    {
     "data": {
      "image/png": "[encoded data removed]",
      "text/plain": [
       "<Figure size 640x480 with 1 Axes>"
      ]
     },
     "metadata": {},
     "output_type": "display_data"
    }
   ],
   "source": [
    "nus_unif = np.random.uniform(0,20,10000)\n",
    "fsunif = np.array([posterior(nus_unif[i],7) for i in range(0,nus_unif.size)])\n",
    "\n",
    "plt.hist(nus_unif,bins=20, density=True,weights=fsunif, color='orange', alpha=0.5, histtype='stepfilled', label='posterior with uniform prior')\n",
    "plt.axvline(6, label=\"max posterior\")\n",
    "plt.xlabel('$\\\\nu_{S}$')\n",
    "plt.ylabel('posterior pdf')\n",
    "plt.legend()"
   ]
  },
  {
   "cell_type": "code",
   "execution_count": 79,
   "id": "07b106bb-5717-4ca6-8a0c-374f84fd01a1",
   "metadata": {},
   "outputs": [
    {
     "data": {
      "text/plain": [
       " message: Optimization terminated successfully\n",
       " success: True\n",
       "  status: 0\n",
       "     fun: 8.274685504002196\n",
       "       x: [ 2.785e+00  1.106e+01]\n",
       "     nit: 5\n",
       "     jac: [-1.000e+00  1.000e+00]\n",
       "    nfev: 15\n",
       "    njev: 5"
      ]
     },
     "execution_count": 79,
     "metadata": {},
     "output_type": "execute_result"
    }
   ],
   "source": [
    "def integral(lower, upper):\n",
    "    integ = scp.integrate.quad(posterior, lower, upper, args=7) \n",
    "    return (integ[0]-0.9)\n",
    "\n",
    "def optint(x):\n",
    "    numax = 6\n",
    "    lower = x[0]\n",
    "    upper = x[1]\n",
    "    return np.abs(upper-lower)\n",
    "\n",
    "\n",
    "fit = scp.optimize.minimize(optint, x0=(3,10), method='SLSQP', constraints=({'type': 'ineq', 'fun': lambda x: integral(x[0],x[1])}))\n",
    "fit\n",
    "    "
   ]
  },
  {
   "cell_type": "code",
   "execution_count": 86,
   "id": "987d28ea-6d34-48e4-b5d2-62ea7f7659d9",
   "metadata": {},
   "outputs": [
    {
     "data": {
      "text/plain": [
       "<matplotlib.legend.Legend at 0x7f57e263bf10>"
      ]
     },
     "execution_count": 86,
     "metadata": {},
     "output_type": "execute_result"
    },
    {
     "data": {
      "image/png": "[encoded data removed]",
      "text/plain": [
       "<Figure size 640x480 with 1 Axes>"
      ]
     },
     "metadata": {},
     "output_type": "display_data"
    }
   ],
   "source": [
    "plt.hist(nus_unif,range=(0,40), bins=40, density=True,weights=fsunif, color='blue', histtype='stepfilled', label='posterior with uniform prior')\n",
    "plt.axvline(7, color='green', label='Frequentist estimator')\n",
    "plt.axvspan(3.28,13.15, color='green', label='Frequentist: $90\\\\%$ confidence interval', alpha=0.3)\n",
    "plt.axvline(6, color='orange', label='Bayes estimator')\n",
    "plt.axvspan(2.79,11.1,alpha=0.3, color='orange', label='Bayes: $90\\\\%$ credible interval')\n",
    "plt.xlabel('$\\\\nu_{s}$')\n",
    "plt.ylabel('Posterior pdf')\n",
    "plt.legend()"
   ]
  },
  {
   "cell_type": "markdown",
   "id": "b489199f-f12d-4f31-9e27-51d6034c81de",
   "metadata": {},
   "source": [
    "Observation: Not only are the interpretations different - also the intervals derived in the frequentist and bayesian context are slightly different."
   ]
  },
  {
   "cell_type": "code",
   "execution_count": null,
   "id": "f8127f04-6905-4ad8-ab2d-c4c9d8a0b2e5",
   "metadata": {},
   "outputs": [],
   "source": []
  }
 ],
 "metadata": {
  "kernelspec": {
   "display_name": "Python 3 (ipykernel)",
   "language": "python",
   "name": "python3"
  },
  "language_info": {
   "codemirror_mode": {
    "name": "ipython",
    "version": 3
   },
   "file_extension": ".py",
   "mimetype": "text/x-python",
   "name": "python",
   "nbconvert_exporter": "python",
   "pygments_lexer": "ipython3",
   "version": "3.9.18"
  }
 },
 "nbformat": 4,
 "nbformat_minor": 5
}
